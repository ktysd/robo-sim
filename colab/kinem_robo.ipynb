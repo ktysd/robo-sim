{
  "nbformat": 4,
  "nbformat_minor": 0,
  "metadata": {
    "colab": {
      "name": "kinem_robo.ipynb",
      "provenance": [],
      "collapsed_sections": []
    },
    "kernelspec": {
      "name": "python3",
      "display_name": "Python 3"
    },
    "widgets": {
      "application/vnd.jupyter.widget-state+json": {
        "e23d3478fa214ec39f54ab11684cf1da": {
          "model_module": "@jupyter-widgets/controls",
          "model_name": "VBoxModel",
          "state": {
            "_view_name": "VBoxView",
            "_dom_classes": [
              "widget-interact"
            ],
            "_model_name": "VBoxModel",
            "_view_module": "@jupyter-widgets/controls",
            "_model_module_version": "1.5.0",
            "_view_count": null,
            "_view_module_version": "1.5.0",
            "box_style": "",
            "layout": "IPY_MODEL_7943f67e7ee24223889a4c7a6cbb3c2e",
            "_model_module": "@jupyter-widgets/controls",
            "children": [
              "IPY_MODEL_3846b8bf9b5d4881a14af12c2ad22771",
              "IPY_MODEL_c38b2cb14eab4d3ea7f0cdb569056d3f",
              "IPY_MODEL_7abad2f1470f4502bbde8c0aa28f6d09",
              "IPY_MODEL_5aca5fac3b584d99a53df8054da1d5ef",
              "IPY_MODEL_7f9154ae89e5401a8fcd07ae5017d234"
            ]
          }
        },
        "7943f67e7ee24223889a4c7a6cbb3c2e": {
          "model_module": "@jupyter-widgets/base",
          "model_name": "LayoutModel",
          "state": {
            "_view_name": "LayoutView",
            "grid_template_rows": null,
            "right": null,
            "justify_content": null,
            "_view_module": "@jupyter-widgets/base",
            "overflow": null,
            "_model_module_version": "1.2.0",
            "_view_count": null,
            "flex_flow": null,
            "width": null,
            "min_width": null,
            "border": null,
            "align_items": null,
            "bottom": null,
            "_model_module": "@jupyter-widgets/base",
            "top": null,
            "grid_column": null,
            "overflow_y": null,
            "overflow_x": null,
            "grid_auto_flow": null,
            "grid_area": null,
            "grid_template_columns": null,
            "flex": null,
            "_model_name": "LayoutModel",
            "justify_items": null,
            "grid_row": null,
            "max_height": null,
            "align_content": null,
            "visibility": null,
            "align_self": null,
            "height": null,
            "min_height": null,
            "padding": null,
            "grid_auto_rows": null,
            "grid_gap": null,
            "max_width": null,
            "order": null,
            "_view_module_version": "1.2.0",
            "grid_template_areas": null,
            "object_position": null,
            "object_fit": null,
            "grid_auto_columns": null,
            "margin": null,
            "display": null,
            "left": null
          }
        },
        "3846b8bf9b5d4881a14af12c2ad22771": {
          "model_module": "@jupyter-widgets/controls",
          "model_name": "IntSliderModel",
          "state": {
            "_view_name": "IntSliderView",
            "style": "IPY_MODEL_114e3abc34c8423d9a4262e9b1a29210",
            "_dom_classes": [],
            "description": "th1deg",
            "step": 10,
            "_model_name": "IntSliderModel",
            "orientation": "horizontal",
            "max": 180,
            "_view_module": "@jupyter-widgets/controls",
            "_model_module_version": "1.5.0",
            "value": -40,
            "_view_count": null,
            "disabled": false,
            "_view_module_version": "1.5.0",
            "min": -180,
            "continuous_update": true,
            "readout_format": "d",
            "description_tooltip": null,
            "readout": true,
            "_model_module": "@jupyter-widgets/controls",
            "layout": "IPY_MODEL_52e6c38966bc4ad2bf531997e5f3e175"
          }
        },
        "c38b2cb14eab4d3ea7f0cdb569056d3f": {
          "model_module": "@jupyter-widgets/controls",
          "model_name": "IntSliderModel",
          "state": {
            "_view_name": "IntSliderView",
            "style": "IPY_MODEL_ab760237bfa54a13a6d77a264747dcb8",
            "_dom_classes": [],
            "description": "th2deg",
            "step": 10,
            "_model_name": "IntSliderModel",
            "orientation": "horizontal",
            "max": 180,
            "_view_module": "@jupyter-widgets/controls",
            "_model_module_version": "1.5.0",
            "value": 50,
            "_view_count": null,
            "disabled": false,
            "_view_module_version": "1.5.0",
            "min": -180,
            "continuous_update": true,
            "readout_format": "d",
            "description_tooltip": null,
            "readout": true,
            "_model_module": "@jupyter-widgets/controls",
            "layout": "IPY_MODEL_5685a9b242f04855ae826417d80195a8"
          }
        },
        "7abad2f1470f4502bbde8c0aa28f6d09": {
          "model_module": "@jupyter-widgets/controls",
          "model_name": "IntSliderModel",
          "state": {
            "_view_name": "IntSliderView",
            "style": "IPY_MODEL_c14a419060474e89984544b79c7d570d",
            "_dom_classes": [],
            "description": "th3deg",
            "step": 10,
            "_model_name": "IntSliderModel",
            "orientation": "horizontal",
            "max": 180,
            "_view_module": "@jupyter-widgets/controls",
            "_model_module_version": "1.5.0",
            "value": 30,
            "_view_count": null,
            "disabled": false,
            "_view_module_version": "1.5.0",
            "min": -180,
            "continuous_update": true,
            "readout_format": "d",
            "description_tooltip": null,
            "readout": true,
            "_model_module": "@jupyter-widgets/controls",
            "layout": "IPY_MODEL_474127f5b71a44de8ebf52abfe45fe06"
          }
        },
        "5aca5fac3b584d99a53df8054da1d5ef": {
          "model_module": "@jupyter-widgets/controls",
          "model_name": "IntSliderModel",
          "state": {
            "_view_name": "IntSliderView",
            "style": "IPY_MODEL_f03bdd6f2e9e44f9baa3ed0b9a9a5f4e",
            "_dom_classes": [],
            "description": "th4deg",
            "step": 10,
            "_model_name": "IntSliderModel",
            "orientation": "horizontal",
            "max": 180,
            "_view_module": "@jupyter-widgets/controls",
            "_model_module_version": "1.5.0",
            "value": -10,
            "_view_count": null,
            "disabled": false,
            "_view_module_version": "1.5.0",
            "min": -180,
            "continuous_update": true,
            "readout_format": "d",
            "description_tooltip": null,
            "readout": true,
            "_model_module": "@jupyter-widgets/controls",
            "layout": "IPY_MODEL_bbd10766c9ee4ac29823bdcb81335be0"
          }
        },
        "7f9154ae89e5401a8fcd07ae5017d234": {
          "model_module": "@jupyter-widgets/output",
          "model_name": "OutputModel",
          "state": {
            "_view_name": "OutputView",
            "msg_id": "",
            "_dom_classes": [],
            "_model_name": "OutputModel",
            "outputs": [
              {
                "output_type": "stream",
                "metadata": {
                  "tags": []
                },
                "text": "angles = (-40, 50, 30, -10)\n",
                "stream": "stdout"
              },
              {
                "output_type": "display_data",
                "metadata": {
                  "tags": [],
                  "needs_background": "light"
                },
                "image/png": "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\n",
                "text/plain": "<Figure size 576x576 with 1 Axes>"
              }
            ],
            "_view_module": "@jupyter-widgets/output",
            "_model_module_version": "1.0.0",
            "_view_count": null,
            "_view_module_version": "1.0.0",
            "layout": "IPY_MODEL_1f41981a909140c381d5c9414e920d3d",
            "_model_module": "@jupyter-widgets/output"
          }
        },
        "114e3abc34c8423d9a4262e9b1a29210": {
          "model_module": "@jupyter-widgets/controls",
          "model_name": "SliderStyleModel",
          "state": {
            "_view_name": "StyleView",
            "handle_color": null,
            "_model_name": "SliderStyleModel",
            "description_width": "",
            "_view_module": "@jupyter-widgets/base",
            "_model_module_version": "1.5.0",
            "_view_count": null,
            "_view_module_version": "1.2.0",
            "_model_module": "@jupyter-widgets/controls"
          }
        },
        "52e6c38966bc4ad2bf531997e5f3e175": {
          "model_module": "@jupyter-widgets/base",
          "model_name": "LayoutModel",
          "state": {
            "_view_name": "LayoutView",
            "grid_template_rows": null,
            "right": null,
            "justify_content": null,
            "_view_module": "@jupyter-widgets/base",
            "overflow": null,
            "_model_module_version": "1.2.0",
            "_view_count": null,
            "flex_flow": null,
            "width": null,
            "min_width": null,
            "border": null,
            "align_items": null,
            "bottom": null,
            "_model_module": "@jupyter-widgets/base",
            "top": null,
            "grid_column": null,
            "overflow_y": null,
            "overflow_x": null,
            "grid_auto_flow": null,
            "grid_area": null,
            "grid_template_columns": null,
            "flex": null,
            "_model_name": "LayoutModel",
            "justify_items": null,
            "grid_row": null,
            "max_height": null,
            "align_content": null,
            "visibility": null,
            "align_self": null,
            "height": null,
            "min_height": null,
            "padding": null,
            "grid_auto_rows": null,
            "grid_gap": null,
            "max_width": null,
            "order": null,
            "_view_module_version": "1.2.0",
            "grid_template_areas": null,
            "object_position": null,
            "object_fit": null,
            "grid_auto_columns": null,
            "margin": null,
            "display": null,
            "left": null
          }
        },
        "ab760237bfa54a13a6d77a264747dcb8": {
          "model_module": "@jupyter-widgets/controls",
          "model_name": "SliderStyleModel",
          "state": {
            "_view_name": "StyleView",
            "handle_color": null,
            "_model_name": "SliderStyleModel",
            "description_width": "",
            "_view_module": "@jupyter-widgets/base",
            "_model_module_version": "1.5.0",
            "_view_count": null,
            "_view_module_version": "1.2.0",
            "_model_module": "@jupyter-widgets/controls"
          }
        },
        "5685a9b242f04855ae826417d80195a8": {
          "model_module": "@jupyter-widgets/base",
          "model_name": "LayoutModel",
          "state": {
            "_view_name": "LayoutView",
            "grid_template_rows": null,
            "right": null,
            "justify_content": null,
            "_view_module": "@jupyter-widgets/base",
            "overflow": null,
            "_model_module_version": "1.2.0",
            "_view_count": null,
            "flex_flow": null,
            "width": null,
            "min_width": null,
            "border": null,
            "align_items": null,
            "bottom": null,
            "_model_module": "@jupyter-widgets/base",
            "top": null,
            "grid_column": null,
            "overflow_y": null,
            "overflow_x": null,
            "grid_auto_flow": null,
            "grid_area": null,
            "grid_template_columns": null,
            "flex": null,
            "_model_name": "LayoutModel",
            "justify_items": null,
            "grid_row": null,
            "max_height": null,
            "align_content": null,
            "visibility": null,
            "align_self": null,
            "height": null,
            "min_height": null,
            "padding": null,
            "grid_auto_rows": null,
            "grid_gap": null,
            "max_width": null,
            "order": null,
            "_view_module_version": "1.2.0",
            "grid_template_areas": null,
            "object_position": null,
            "object_fit": null,
            "grid_auto_columns": null,
            "margin": null,
            "display": null,
            "left": null
          }
        },
        "c14a419060474e89984544b79c7d570d": {
          "model_module": "@jupyter-widgets/controls",
          "model_name": "SliderStyleModel",
          "state": {
            "_view_name": "StyleView",
            "handle_color": null,
            "_model_name": "SliderStyleModel",
            "description_width": "",
            "_view_module": "@jupyter-widgets/base",
            "_model_module_version": "1.5.0",
            "_view_count": null,
            "_view_module_version": "1.2.0",
            "_model_module": "@jupyter-widgets/controls"
          }
        },
        "474127f5b71a44de8ebf52abfe45fe06": {
          "model_module": "@jupyter-widgets/base",
          "model_name": "LayoutModel",
          "state": {
            "_view_name": "LayoutView",
            "grid_template_rows": null,
            "right": null,
            "justify_content": null,
            "_view_module": "@jupyter-widgets/base",
            "overflow": null,
            "_model_module_version": "1.2.0",
            "_view_count": null,
            "flex_flow": null,
            "width": null,
            "min_width": null,
            "border": null,
            "align_items": null,
            "bottom": null,
            "_model_module": "@jupyter-widgets/base",
            "top": null,
            "grid_column": null,
            "overflow_y": null,
            "overflow_x": null,
            "grid_auto_flow": null,
            "grid_area": null,
            "grid_template_columns": null,
            "flex": null,
            "_model_name": "LayoutModel",
            "justify_items": null,
            "grid_row": null,
            "max_height": null,
            "align_content": null,
            "visibility": null,
            "align_self": null,
            "height": null,
            "min_height": null,
            "padding": null,
            "grid_auto_rows": null,
            "grid_gap": null,
            "max_width": null,
            "order": null,
            "_view_module_version": "1.2.0",
            "grid_template_areas": null,
            "object_position": null,
            "object_fit": null,
            "grid_auto_columns": null,
            "margin": null,
            "display": null,
            "left": null
          }
        },
        "f03bdd6f2e9e44f9baa3ed0b9a9a5f4e": {
          "model_module": "@jupyter-widgets/controls",
          "model_name": "SliderStyleModel",
          "state": {
            "_view_name": "StyleView",
            "handle_color": null,
            "_model_name": "SliderStyleModel",
            "description_width": "",
            "_view_module": "@jupyter-widgets/base",
            "_model_module_version": "1.5.0",
            "_view_count": null,
            "_view_module_version": "1.2.0",
            "_model_module": "@jupyter-widgets/controls"
          }
        },
        "bbd10766c9ee4ac29823bdcb81335be0": {
          "model_module": "@jupyter-widgets/base",
          "model_name": "LayoutModel",
          "state": {
            "_view_name": "LayoutView",
            "grid_template_rows": null,
            "right": null,
            "justify_content": null,
            "_view_module": "@jupyter-widgets/base",
            "overflow": null,
            "_model_module_version": "1.2.0",
            "_view_count": null,
            "flex_flow": null,
            "width": null,
            "min_width": null,
            "border": null,
            "align_items": null,
            "bottom": null,
            "_model_module": "@jupyter-widgets/base",
            "top": null,
            "grid_column": null,
            "overflow_y": null,
            "overflow_x": null,
            "grid_auto_flow": null,
            "grid_area": null,
            "grid_template_columns": null,
            "flex": null,
            "_model_name": "LayoutModel",
            "justify_items": null,
            "grid_row": null,
            "max_height": null,
            "align_content": null,
            "visibility": null,
            "align_self": null,
            "height": null,
            "min_height": null,
            "padding": null,
            "grid_auto_rows": null,
            "grid_gap": null,
            "max_width": null,
            "order": null,
            "_view_module_version": "1.2.0",
            "grid_template_areas": null,
            "object_position": null,
            "object_fit": null,
            "grid_auto_columns": null,
            "margin": null,
            "display": null,
            "left": null
          }
        },
        "1f41981a909140c381d5c9414e920d3d": {
          "model_module": "@jupyter-widgets/base",
          "model_name": "LayoutModel",
          "state": {
            "_view_name": "LayoutView",
            "grid_template_rows": null,
            "right": null,
            "justify_content": null,
            "_view_module": "@jupyter-widgets/base",
            "overflow": null,
            "_model_module_version": "1.2.0",
            "_view_count": null,
            "flex_flow": null,
            "width": null,
            "min_width": null,
            "border": null,
            "align_items": null,
            "bottom": null,
            "_model_module": "@jupyter-widgets/base",
            "top": null,
            "grid_column": null,
            "overflow_y": null,
            "overflow_x": null,
            "grid_auto_flow": null,
            "grid_area": null,
            "grid_template_columns": null,
            "flex": null,
            "_model_name": "LayoutModel",
            "justify_items": null,
            "grid_row": null,
            "max_height": null,
            "align_content": null,
            "visibility": null,
            "align_self": null,
            "height": null,
            "min_height": null,
            "padding": null,
            "grid_auto_rows": null,
            "grid_gap": null,
            "max_width": null,
            "order": null,
            "_view_module_version": "1.2.0",
            "grid_template_areas": null,
            "object_position": null,
            "object_fit": null,
            "grid_auto_columns": null,
            "margin": null,
            "display": null,
            "left": null
          }
        }
      }
    }
  },
  "cells": [
    {
      "cell_type": "code",
      "metadata": {
        "id": "Cx-utNO97f6X"
      },
      "source": [
        "from math import sin, cos, pi     #数学関数・定数のインポート\n",
        "import numpy as np                #数値計算機能のインポート 別名np\n",
        "import matplotlib.pyplot as plt   #グラフ描画機能のインポート 別名plt\n",
        "from ipywidgets import interact   #対話的処理機能のインポート\n",
        "from mpl_toolkits.mplot3d import Axes3D #3次元描画機能のインポート"
      ],
      "execution_count": 1,
      "outputs": []
    },
    {
      "cell_type": "markdown",
      "metadata": {
        "id": "b4l85VzC9IEJ"
      },
      "source": [
        "# ロボット・マニピュレータ"
      ]
    },
    {
      "cell_type": "markdown",
      "metadata": {
        "id": "NrJ6txkg9ArA"
      },
      "source": [
        "### 同次変換行列(3次元)を作る関数"
      ]
    },
    {
      "cell_type": "code",
      "metadata": {
        "id": "RGSJRlP98N6s"
      },
      "source": [
        "def H_3d(angle, axis, r):\n",
        "\n",
        "  a1, a2, a3 = axis #回転軸の成分\n",
        "  aa1 = a1*a1 #2乗を作っておく\n",
        "  aa2 = a2*a2\n",
        "  aa3 = a3*a3\n",
        "  C = cos(angle)\n",
        "  S = sin(angle)\n",
        "\n",
        "  H = np.array([\n",
        "    [ aa1 + (1-aa1)*C,    a1*a2*(1-C) - a3*S, a1*a3*(1-C) + a2*S, r[0] ],              \n",
        "    [ a1*a2*(1-C) + a3*S, aa2 + (1-aa2)*C,    a2*a3*(1-C) - a1*S, r[1] ],              \n",
        "    [ a1*a3*(1-C) - a2*S, a2*a3*(1-C) + a1*S, aa3 + (1-aa3)*C,    r[2] ],              \n",
        "    [                  0,                  0,               0,      1  ],              \n",
        "  ])\n",
        "\n",
        "  return H"
      ],
      "execution_count": 2,
      "outputs": []
    },
    {
      "cell_type": "code",
      "metadata": {
        "colab": {
          "base_uri": "https://localhost:8080/"
        },
        "id": "XR4Qclj5s0z-",
        "outputId": "5effe765-91b4-416f-fa43-0e4b054b54a6"
      },
      "source": [
        "H_3d(pi/2, [1,0,0], [1,0,0]) #お試し"
      ],
      "execution_count": 3,
      "outputs": [
        {
          "output_type": "execute_result",
          "data": {
            "text/plain": [
              "array([[ 1.000000e+00,  0.000000e+00,  0.000000e+00,  1.000000e+00],\n",
              "       [ 0.000000e+00,  6.123234e-17, -1.000000e+00,  0.000000e+00],\n",
              "       [ 0.000000e+00,  1.000000e+00,  6.123234e-17,  0.000000e+00],\n",
              "       [ 0.000000e+00,  0.000000e+00,  0.000000e+00,  1.000000e+00]])"
            ]
          },
          "metadata": {
            "tags": []
          },
          "execution_count": 3
        }
      ]
    },
    {
      "cell_type": "markdown",
      "metadata": {
        "id": "ikqnA_00tEkh"
      },
      "source": [
        "※ `6.123234e-17` $=6.123234\\times10^{-17}$なので，計算機誤差を含む 0 のこと．"
      ]
    },
    {
      "cell_type": "markdown",
      "metadata": {
        "id": "Jvo_WA5S9S_N"
      },
      "source": [
        "### ダミー成分を追加・除去する関数（3次元）"
      ]
    },
    {
      "cell_type": "code",
      "metadata": {
        "id": "9AK24ZVo9Tj-"
      },
      "source": [
        "### 物理座標にダミー成分を追加する関数\n",
        "def add_dummy(x):\n",
        "#  return np.array([x[0], x[1], x[2], 1]) #ダミー成分を追加\n",
        "  return np.append(x, 1) #同じ処理のPython的な書き方\n",
        "\n",
        "### 同次座標からダミー変数を除去する関数\n",
        "def remove_dummy(xx):\n",
        "#  return np.array([xx[0], xx[1], xx[2]]) #ダミー成分を除去\n",
        "  return xx[:-1] #同じ処理のPython的な書き方"
      ],
      "execution_count": 4,
      "outputs": []
    },
    {
      "cell_type": "code",
      "metadata": {
        "id": "8J85gJiV9-Vs",
        "colab": {
          "base_uri": "https://localhost:8080/"
        },
        "outputId": "8b22eddc-76b1-4f06-ae30-d8238e18f481"
      },
      "source": [
        "H = H_3d(pi/2, [1,0,0], [1,2,3]) #お試し\n",
        "x = np.array([1,2,3])\n",
        "print(x)\n",
        "hx = add_dummy(x)\n",
        "print(hx)\n",
        "hy = np.dot(H, hx) #同次変換行列と同次座標の積\n",
        "print(hy)\n",
        "y = remove_dummy(hy)\n",
        "print(y)"
      ],
      "execution_count": 5,
      "outputs": [
        {
          "output_type": "stream",
          "text": [
            "[1 2 3]\n",
            "[1 2 3 1]\n",
            "[ 2. -1.  5.  1.]\n",
            "[ 2. -1.  5.]\n"
          ],
          "name": "stdout"
        }
      ]
    },
    {
      "cell_type": "markdown",
      "metadata": {
        "id": "e2eV0udt68kV"
      },
      "source": [
        "### テキストpart2.pdf の表2"
      ]
    },
    {
      "cell_type": "code",
      "metadata": {
        "colab": {
          "base_uri": "https://localhost:8080/"
        },
        "id": "4noaitnY7KG7",
        "outputId": "8cd58fbf-c7fb-47c7-fc84-17b08328e3f6"
      },
      "source": [
        "def Trans(r):\n",
        "  return H_3d(angle=0, axis=[1,0,0], r=r) #axis の方向は任意\n",
        "\n",
        "Trans([1,2,3]) #お試し"
      ],
      "execution_count": 6,
      "outputs": [
        {
          "output_type": "execute_result",
          "data": {
            "text/plain": [
              "array([[1., 0., 0., 1.],\n",
              "       [0., 1., 0., 2.],\n",
              "       [0., 0., 1., 3.],\n",
              "       [0., 0., 0., 1.]])"
            ]
          },
          "metadata": {
            "tags": []
          },
          "execution_count": 6
        }
      ]
    },
    {
      "cell_type": "code",
      "metadata": {
        "colab": {
          "base_uri": "https://localhost:8080/"
        },
        "id": "vjG3OtwC8AZo",
        "outputId": "d60f7a45-cd9d-419f-81ee-6fe645ea21f3"
      },
      "source": [
        "def Rotx(angle):\n",
        "  return H_3d(angle=angle, axis=[1,0,0], r=np.zeros(3))\n",
        "\n",
        "Rotx(pi/3) #お試し"
      ],
      "execution_count": 7,
      "outputs": [
        {
          "output_type": "execute_result",
          "data": {
            "text/plain": [
              "array([[ 1.       ,  0.       ,  0.       ,  0.       ],\n",
              "       [ 0.       ,  0.5      , -0.8660254,  0.       ],\n",
              "       [ 0.       ,  0.8660254,  0.5      ,  0.       ],\n",
              "       [ 0.       ,  0.       ,  0.       ,  1.       ]])"
            ]
          },
          "metadata": {
            "tags": []
          },
          "execution_count": 7
        }
      ]
    },
    {
      "cell_type": "code",
      "metadata": {
        "colab": {
          "base_uri": "https://localhost:8080/"
        },
        "id": "xxIaQDm38wWB",
        "outputId": "4f8a2ae5-1351-491f-86cf-2bc1c220a9fb"
      },
      "source": [
        "def Roty(angle):\n",
        "  return H_3d(angle=angle, axis=[0,1,0], r=np.zeros(3))\n",
        "\n",
        "Roty(pi/3) #お試し"
      ],
      "execution_count": 8,
      "outputs": [
        {
          "output_type": "execute_result",
          "data": {
            "text/plain": [
              "array([[ 0.5      ,  0.       ,  0.8660254,  0.       ],\n",
              "       [ 0.       ,  1.       ,  0.       ,  0.       ],\n",
              "       [-0.8660254,  0.       ,  0.5      ,  0.       ],\n",
              "       [ 0.       ,  0.       ,  0.       ,  1.       ]])"
            ]
          },
          "metadata": {
            "tags": []
          },
          "execution_count": 8
        }
      ]
    },
    {
      "cell_type": "code",
      "metadata": {
        "colab": {
          "base_uri": "https://localhost:8080/"
        },
        "id": "xZfTM4Cs88mX",
        "outputId": "5a59a214-c2ff-4547-9698-77ecc695c549"
      },
      "source": [
        "def Rotz(angle):\n",
        "  return H_3d(angle=angle, axis=[0,0,1], r=np.zeros(3))\n",
        "\n",
        "Rotz(pi/3) #お試し"
      ],
      "execution_count": 9,
      "outputs": [
        {
          "output_type": "execute_result",
          "data": {
            "text/plain": [
              "array([[ 0.5      , -0.8660254,  0.       ,  0.       ],\n",
              "       [ 0.8660254,  0.5      ,  0.       ,  0.       ],\n",
              "       [ 0.       ,  0.       ,  1.       ,  0.       ],\n",
              "       [ 0.       ,  0.       ,  0.       ,  1.       ]])"
            ]
          },
          "metadata": {
            "tags": []
          },
          "execution_count": 9
        }
      ]
    },
    {
      "cell_type": "markdown",
      "metadata": {
        "id": "qGPM2Ivk-pn8"
      },
      "source": [
        "## マニピュレータの同次変換"
      ]
    },
    {
      "cell_type": "markdown",
      "metadata": {
        "id": "Ar0IpUIQ-yUh"
      },
      "source": [
        "### 手先のデータ（今回は最初から同次座標で与える）"
      ]
    },
    {
      "cell_type": "code",
      "metadata": {
        "id": "67gKbDbbEG6P"
      },
      "source": [
        "hand = np.array([\n",
        "  [0,    0,    0,  1],  #[x,y,z,1]　1点目\n",
        "  [0, -0.2,  0.2,  1],  #2点目\n",
        "  [0,  0.2,  0.2,  1],  #3点目\n",
        "  [0,    0,    0,  1]   #4点目 = 1点目\n",
        "])"
      ],
      "execution_count": 10,
      "outputs": []
    },
    {
      "cell_type": "markdown",
      "metadata": {
        "id": "5S9FRRwL_uA1"
      },
      "source": [
        "### マニピュレータの形状データを求める関数"
      ]
    },
    {
      "cell_type": "code",
      "metadata": {
        "id": "uKHs1Zwy_feP",
        "colab": {
          "base_uri": "https://localhost:8080/"
        },
        "outputId": "bca9b206-10ed-429c-ba3e-e52b6d8e4547"
      },
      "source": [
        "def get_manipulator_points( hand, angles ):\n",
        "\n",
        "  l1, l2, l3 = 0.8, 0.8, 0.8   #リンク長\n",
        "  th1, th2, th3, th4 = angles  #関節角\n",
        "  origin = np.array([0,0,0,1]) #原点の同時座標\n",
        "\n",
        "  # 使用する同次変換行列\n",
        "  R2 = Rotz( th4 )\n",
        "  T3 = Trans([0,0,l3])\n",
        "  R4 = Rotx( -th3 )\n",
        "  T5 = Trans([0,0,l2])\n",
        "  R6 = Rotx( -th2 )\n",
        "  T7 = Trans([0,0,l1])\n",
        "  R8 = Rotz( th1 )\n",
        "\n",
        "  # 式(7.11)の形状データの作成\n",
        "\n",
        "  ##手先　※行列の積np.dot(A,B)は，A.dot(B)という文法でも書けます \n",
        "  H = R8.dot(T7).dot(R6).dot(T5).dot(R4).dot(T3).dot(R2)\n",
        "  xi1s = [] #空のリスト\n",
        "  for point in hand:  #手先\n",
        "    newpoint = np.dot(H, point)\n",
        "    xi1s.append(newpoint) #計算結果をリストに追加\n",
        "  xi1s = np.array(xi1s) #リストを配列化\n",
        "\n",
        "  ##肘\n",
        "  H = R8.dot(T7).dot(R6).dot(T5)\n",
        "  xi4 = np.dot(H, origin)\n",
        "\n",
        "  ##肩\n",
        "  H = R8.dot(T7)\n",
        "  xi5 = np.dot(H, origin)\n",
        "\n",
        "  ##根本\n",
        "  xi6 = origin\n",
        "\n",
        "  ##一筆書きの点列\n",
        "  allpoints = np.vstack((xi1s, xi4, xi5, xi6))\n",
        "\n",
        "  ##ダミー成分(最終列)の除去\n",
        "  allpoints = allpoints[:,:-1]\n",
        "\n",
        "  return allpoints\n",
        "\n",
        "get_manipulator_points(hand, [pi/2,pi/2,pi/2,pi/2]) #お試し"
      ],
      "execution_count": 11,
      "outputs": [
        {
          "output_type": "execute_result",
          "data": {
            "text/plain": [
              "array([[-8.0000000e-01,  4.8985872e-17,  0.0000000e+00],\n",
              "       [-8.0000000e-01,  2.0000000e-01, -2.0000000e-01],\n",
              "       [-8.0000000e-01, -2.0000000e-01, -2.0000000e-01],\n",
              "       [-8.0000000e-01,  4.8985872e-17,  0.0000000e+00],\n",
              "       [-8.0000000e-01,  4.8985872e-17,  8.0000000e-01],\n",
              "       [ 0.0000000e+00,  0.0000000e+00,  8.0000000e-01],\n",
              "       [ 0.0000000e+00,  0.0000000e+00,  0.0000000e+00]])"
            ]
          },
          "metadata": {
            "tags": []
          },
          "execution_count": 11
        }
      ]
    },
    {
      "cell_type": "markdown",
      "metadata": {
        "id": "_UY79BuqEptw"
      },
      "source": [
        "## 手動操作"
      ]
    },
    {
      "cell_type": "code",
      "metadata": {
        "id": "HtqMIwmzDYIk",
        "colab": {
          "base_uri": "https://localhost:8080/",
          "height": 612,
          "referenced_widgets": [
            "e23d3478fa214ec39f54ab11684cf1da",
            "7943f67e7ee24223889a4c7a6cbb3c2e",
            "3846b8bf9b5d4881a14af12c2ad22771",
            "c38b2cb14eab4d3ea7f0cdb569056d3f",
            "7abad2f1470f4502bbde8c0aa28f6d09",
            "5aca5fac3b584d99a53df8054da1d5ef",
            "7f9154ae89e5401a8fcd07ae5017d234",
            "114e3abc34c8423d9a4262e9b1a29210",
            "52e6c38966bc4ad2bf531997e5f3e175",
            "ab760237bfa54a13a6d77a264747dcb8",
            "5685a9b242f04855ae826417d80195a8",
            "c14a419060474e89984544b79c7d570d",
            "474127f5b71a44de8ebf52abfe45fe06",
            "f03bdd6f2e9e44f9baa3ed0b9a9a5f4e",
            "bbd10766c9ee4ac29823bdcb81335be0",
            "1f41981a909140c381d5c9414e920d3d"
          ]
        },
        "outputId": "8c792bfe-37ac-4c58-ea60-0199721a1e74"
      },
      "source": [
        "@interact(\n",
        "    th1deg=(-180, 180, 10), #[下限，上限，刻み幅]\n",
        "    th2deg=(-180, 180, 10),\n",
        "    th3deg=(-180, 180, 10),\n",
        "    th4deg=(-180, 180, 10),\n",
        ")\n",
        "def f(th1deg=-40, th2deg=50, th3deg=30, th4deg=90):\n",
        "\n",
        "    print('angles = (%d, %d, %d, %d)'%(th1deg, th2deg, th3deg, th4deg))\n",
        "\n",
        "    angles_rad = np.array([th1deg, th2deg, th3deg, th4deg])/180*pi \n",
        "    newpoints = get_manipulator_points( hand, angles=angles_rad )\n",
        "    xs = newpoints[:,0] #1列目　x座標\n",
        "    ys = newpoints[:,1] #2列目　y座標\n",
        "    zs = newpoints[:,2] #3列目　z座標\n",
        "\n",
        "    fig = plt.figure(figsize=(8,8))   #正方形の用紙\n",
        "    ax = plt.axes(projection='3d')    #用紙上に3次元グラフ用紙を作る\n",
        "    ax.set_xlim([-0.5, 2])            #x軸の範囲\n",
        "    ax.set_ylim([-0.5, 2])            #y軸の範囲\n",
        "    ax.set_zlim([   0, 2.5])          #z軸の範囲\n",
        "    ax.set_xlabel('x')                #x軸のラベル\n",
        "    ax.set_ylabel('y')                #y軸のラベル\n",
        "    ax.set_zlabel('z')                #x軸のラベル\n",
        "    ax.grid()\n",
        "\n",
        "    ax.plot(xs, ys, zs)"
      ],
      "execution_count": 14,
      "outputs": [
        {
          "output_type": "display_data",
          "data": {
            "application/vnd.jupyter.widget-view+json": {
              "model_id": "e23d3478fa214ec39f54ab11684cf1da",
              "version_minor": 0,
              "version_major": 2
            },
            "text/plain": [
              "interactive(children=(IntSlider(value=-40, description='th1deg', max=180, min=-180, step=10), IntSlider(value=…"
            ]
          },
          "metadata": {
            "tags": []
          }
        }
      ]
    },
    {
      "cell_type": "code",
      "metadata": {
        "id": "0IBispUmHqCx"
      },
      "source": [
        ""
      ],
      "execution_count": 12,
      "outputs": []
    }
  ]
}