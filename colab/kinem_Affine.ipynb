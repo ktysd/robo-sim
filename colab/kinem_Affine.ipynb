{
  "nbformat": 4,
  "nbformat_minor": 0,
  "metadata": {
    "colab": {
      "name": "kinem_affine.ipynb",
      "provenance": [],
      "collapsed_sections": []
    },
    "kernelspec": {
      "name": "python3",
      "display_name": "Python 3"
    },
    "widgets": {
      "application/vnd.jupyter.widget-state+json": {
        "0f9044796b7245ab8c004eb86d90bf50": {
          "model_module": "@jupyter-widgets/controls",
          "model_name": "VBoxModel",
          "state": {
            "_view_name": "VBoxView",
            "_dom_classes": [
              "widget-interact"
            ],
            "_model_name": "VBoxModel",
            "_view_module": "@jupyter-widgets/controls",
            "_model_module_version": "1.5.0",
            "_view_count": null,
            "_view_module_version": "1.5.0",
            "box_style": "",
            "layout": "IPY_MODEL_0c4b83dba5fa4f66aa809bd8a08fd650",
            "_model_module": "@jupyter-widgets/controls",
            "children": [
              "IPY_MODEL_2085b5b5012447e8a2112d8c1c958fd4",
              "IPY_MODEL_5d10a6e3813e416ba920cfe60be58d20",
              "IPY_MODEL_bbf0f2d0464d454e92d0a787676544c2",
              "IPY_MODEL_8a98f766062743cfa7490639cf012683"
            ]
          }
        },
        "0c4b83dba5fa4f66aa809bd8a08fd650": {
          "model_module": "@jupyter-widgets/base",
          "model_name": "LayoutModel",
          "state": {
            "_view_name": "LayoutView",
            "grid_template_rows": null,
            "right": null,
            "justify_content": null,
            "_view_module": "@jupyter-widgets/base",
            "overflow": null,
            "_model_module_version": "1.2.0",
            "_view_count": null,
            "flex_flow": null,
            "width": null,
            "min_width": null,
            "border": null,
            "align_items": null,
            "bottom": null,
            "_model_module": "@jupyter-widgets/base",
            "top": null,
            "grid_column": null,
            "overflow_y": null,
            "overflow_x": null,
            "grid_auto_flow": null,
            "grid_area": null,
            "grid_template_columns": null,
            "flex": null,
            "_model_name": "LayoutModel",
            "justify_items": null,
            "grid_row": null,
            "max_height": null,
            "align_content": null,
            "visibility": null,
            "align_self": null,
            "height": null,
            "min_height": null,
            "padding": null,
            "grid_auto_rows": null,
            "grid_gap": null,
            "max_width": null,
            "order": null,
            "_view_module_version": "1.2.0",
            "grid_template_areas": null,
            "object_position": null,
            "object_fit": null,
            "grid_auto_columns": null,
            "margin": null,
            "display": null,
            "left": null
          }
        },
        "2085b5b5012447e8a2112d8c1c958fd4": {
          "model_module": "@jupyter-widgets/controls",
          "model_name": "IntSliderModel",
          "state": {
            "_view_name": "IntSliderView",
            "style": "IPY_MODEL_cfc53e6c46c44e7ea795e1f764b145a1",
            "_dom_classes": [],
            "description": "rx",
            "step": 1,
            "_model_name": "IntSliderModel",
            "orientation": "horizontal",
            "max": 10,
            "_view_module": "@jupyter-widgets/controls",
            "_model_module_version": "1.5.0",
            "value": 2,
            "_view_count": null,
            "disabled": false,
            "_view_module_version": "1.5.0",
            "min": -10,
            "continuous_update": true,
            "readout_format": "d",
            "description_tooltip": null,
            "readout": true,
            "_model_module": "@jupyter-widgets/controls",
            "layout": "IPY_MODEL_04461ee5c831424b98a37e041a5740c5"
          }
        },
        "5d10a6e3813e416ba920cfe60be58d20": {
          "model_module": "@jupyter-widgets/controls",
          "model_name": "IntSliderModel",
          "state": {
            "_view_name": "IntSliderView",
            "style": "IPY_MODEL_c0a2657aaf91456494574947951d12d0",
            "_dom_classes": [],
            "description": "ry",
            "step": 1,
            "_model_name": "IntSliderModel",
            "orientation": "horizontal",
            "max": 10,
            "_view_module": "@jupyter-widgets/controls",
            "_model_module_version": "1.5.0",
            "value": 5,
            "_view_count": null,
            "disabled": false,
            "_view_module_version": "1.5.0",
            "min": -10,
            "continuous_update": true,
            "readout_format": "d",
            "description_tooltip": null,
            "readout": true,
            "_model_module": "@jupyter-widgets/controls",
            "layout": "IPY_MODEL_82ccc54a6ab24b31af3c2765137c0753"
          }
        },
        "bbf0f2d0464d454e92d0a787676544c2": {
          "model_module": "@jupyter-widgets/controls",
          "model_name": "FloatSliderModel",
          "state": {
            "_view_name": "FloatSliderView",
            "style": "IPY_MODEL_29925efde01a4bd1947a9a4cdf9450b8",
            "_dom_classes": [],
            "description": "angle",
            "step": 0.15707963267948966,
            "_model_name": "FloatSliderModel",
            "orientation": "horizontal",
            "max": 3.141592653589793,
            "_view_module": "@jupyter-widgets/controls",
            "_model_module_version": "1.5.0",
            "value": -1.72788,
            "_view_count": null,
            "disabled": false,
            "_view_module_version": "1.5.0",
            "min": -3.141592653589793,
            "continuous_update": true,
            "readout_format": ".2f",
            "description_tooltip": null,
            "readout": true,
            "_model_module": "@jupyter-widgets/controls",
            "layout": "IPY_MODEL_c2c75a19d4784321b2ddd7c6e7379ef0"
          }
        },
        "8a98f766062743cfa7490639cf012683": {
          "model_module": "@jupyter-widgets/output",
          "model_name": "OutputModel",
          "state": {
            "_view_name": "OutputView",
            "msg_id": "",
            "_dom_classes": [],
            "_model_name": "OutputModel",
            "outputs": [
              {
                "output_type": "stream",
                "metadata": {
                  "tags": []
                },
                "text": "r = (2.000000, 5.000000), angle=-1.727880\n",
                "stream": "stdout"
              },
              {
                "output_type": "display_data",
                "metadata": {
                  "tags": [],
                  "needs_background": "light"
                },
                "image/png": "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\n",
                "text/plain": "<Figure size 360x360 with 1 Axes>"
              }
            ],
            "_view_module": "@jupyter-widgets/output",
            "_model_module_version": "1.0.0",
            "_view_count": null,
            "_view_module_version": "1.0.0",
            "layout": "IPY_MODEL_d17e5c6c05e643379b67c13681474080",
            "_model_module": "@jupyter-widgets/output"
          }
        },
        "cfc53e6c46c44e7ea795e1f764b145a1": {
          "model_module": "@jupyter-widgets/controls",
          "model_name": "SliderStyleModel",
          "state": {
            "_view_name": "StyleView",
            "handle_color": null,
            "_model_name": "SliderStyleModel",
            "description_width": "",
            "_view_module": "@jupyter-widgets/base",
            "_model_module_version": "1.5.0",
            "_view_count": null,
            "_view_module_version": "1.2.0",
            "_model_module": "@jupyter-widgets/controls"
          }
        },
        "04461ee5c831424b98a37e041a5740c5": {
          "model_module": "@jupyter-widgets/base",
          "model_name": "LayoutModel",
          "state": {
            "_view_name": "LayoutView",
            "grid_template_rows": null,
            "right": null,
            "justify_content": null,
            "_view_module": "@jupyter-widgets/base",
            "overflow": null,
            "_model_module_version": "1.2.0",
            "_view_count": null,
            "flex_flow": null,
            "width": null,
            "min_width": null,
            "border": null,
            "align_items": null,
            "bottom": null,
            "_model_module": "@jupyter-widgets/base",
            "top": null,
            "grid_column": null,
            "overflow_y": null,
            "overflow_x": null,
            "grid_auto_flow": null,
            "grid_area": null,
            "grid_template_columns": null,
            "flex": null,
            "_model_name": "LayoutModel",
            "justify_items": null,
            "grid_row": null,
            "max_height": null,
            "align_content": null,
            "visibility": null,
            "align_self": null,
            "height": null,
            "min_height": null,
            "padding": null,
            "grid_auto_rows": null,
            "grid_gap": null,
            "max_width": null,
            "order": null,
            "_view_module_version": "1.2.0",
            "grid_template_areas": null,
            "object_position": null,
            "object_fit": null,
            "grid_auto_columns": null,
            "margin": null,
            "display": null,
            "left": null
          }
        },
        "c0a2657aaf91456494574947951d12d0": {
          "model_module": "@jupyter-widgets/controls",
          "model_name": "SliderStyleModel",
          "state": {
            "_view_name": "StyleView",
            "handle_color": null,
            "_model_name": "SliderStyleModel",
            "description_width": "",
            "_view_module": "@jupyter-widgets/base",
            "_model_module_version": "1.5.0",
            "_view_count": null,
            "_view_module_version": "1.2.0",
            "_model_module": "@jupyter-widgets/controls"
          }
        },
        "82ccc54a6ab24b31af3c2765137c0753": {
          "model_module": "@jupyter-widgets/base",
          "model_name": "LayoutModel",
          "state": {
            "_view_name": "LayoutView",
            "grid_template_rows": null,
            "right": null,
            "justify_content": null,
            "_view_module": "@jupyter-widgets/base",
            "overflow": null,
            "_model_module_version": "1.2.0",
            "_view_count": null,
            "flex_flow": null,
            "width": null,
            "min_width": null,
            "border": null,
            "align_items": null,
            "bottom": null,
            "_model_module": "@jupyter-widgets/base",
            "top": null,
            "grid_column": null,
            "overflow_y": null,
            "overflow_x": null,
            "grid_auto_flow": null,
            "grid_area": null,
            "grid_template_columns": null,
            "flex": null,
            "_model_name": "LayoutModel",
            "justify_items": null,
            "grid_row": null,
            "max_height": null,
            "align_content": null,
            "visibility": null,
            "align_self": null,
            "height": null,
            "min_height": null,
            "padding": null,
            "grid_auto_rows": null,
            "grid_gap": null,
            "max_width": null,
            "order": null,
            "_view_module_version": "1.2.0",
            "grid_template_areas": null,
            "object_position": null,
            "object_fit": null,
            "grid_auto_columns": null,
            "margin": null,
            "display": null,
            "left": null
          }
        },
        "29925efde01a4bd1947a9a4cdf9450b8": {
          "model_module": "@jupyter-widgets/controls",
          "model_name": "SliderStyleModel",
          "state": {
            "_view_name": "StyleView",
            "handle_color": null,
            "_model_name": "SliderStyleModel",
            "description_width": "",
            "_view_module": "@jupyter-widgets/base",
            "_model_module_version": "1.5.0",
            "_view_count": null,
            "_view_module_version": "1.2.0",
            "_model_module": "@jupyter-widgets/controls"
          }
        },
        "c2c75a19d4784321b2ddd7c6e7379ef0": {
          "model_module": "@jupyter-widgets/base",
          "model_name": "LayoutModel",
          "state": {
            "_view_name": "LayoutView",
            "grid_template_rows": null,
            "right": null,
            "justify_content": null,
            "_view_module": "@jupyter-widgets/base",
            "overflow": null,
            "_model_module_version": "1.2.0",
            "_view_count": null,
            "flex_flow": null,
            "width": null,
            "min_width": null,
            "border": null,
            "align_items": null,
            "bottom": null,
            "_model_module": "@jupyter-widgets/base",
            "top": null,
            "grid_column": null,
            "overflow_y": null,
            "overflow_x": null,
            "grid_auto_flow": null,
            "grid_area": null,
            "grid_template_columns": null,
            "flex": null,
            "_model_name": "LayoutModel",
            "justify_items": null,
            "grid_row": null,
            "max_height": null,
            "align_content": null,
            "visibility": null,
            "align_self": null,
            "height": null,
            "min_height": null,
            "padding": null,
            "grid_auto_rows": null,
            "grid_gap": null,
            "max_width": null,
            "order": null,
            "_view_module_version": "1.2.0",
            "grid_template_areas": null,
            "object_position": null,
            "object_fit": null,
            "grid_auto_columns": null,
            "margin": null,
            "display": null,
            "left": null
          }
        },
        "d17e5c6c05e643379b67c13681474080": {
          "model_module": "@jupyter-widgets/base",
          "model_name": "LayoutModel",
          "state": {
            "_view_name": "LayoutView",
            "grid_template_rows": null,
            "right": null,
            "justify_content": null,
            "_view_module": "@jupyter-widgets/base",
            "overflow": null,
            "_model_module_version": "1.2.0",
            "_view_count": null,
            "flex_flow": null,
            "width": null,
            "min_width": null,
            "border": null,
            "align_items": null,
            "bottom": null,
            "_model_module": "@jupyter-widgets/base",
            "top": null,
            "grid_column": null,
            "overflow_y": null,
            "overflow_x": null,
            "grid_auto_flow": null,
            "grid_area": null,
            "grid_template_columns": null,
            "flex": null,
            "_model_name": "LayoutModel",
            "justify_items": null,
            "grid_row": null,
            "max_height": null,
            "align_content": null,
            "visibility": null,
            "align_self": null,
            "height": null,
            "min_height": null,
            "padding": null,
            "grid_auto_rows": null,
            "grid_gap": null,
            "max_width": null,
            "order": null,
            "_view_module_version": "1.2.0",
            "grid_template_areas": null,
            "object_position": null,
            "object_fit": null,
            "grid_auto_columns": null,
            "margin": null,
            "display": null,
            "left": null
          }
        }
      }
    }
  },
  "cells": [
    {
      "cell_type": "code",
      "metadata": {
        "id": "Cx-utNO97f6X"
      },
      "source": [
        "from math import sin, cos, pi     #数学関数・定数のインポート\n",
        "import numpy as np                #数値計算機能のインポート 別名np\n",
        "import matplotlib.pyplot as plt   #グラフ描画機能のインポート 別名plt\n",
        "from ipywidgets import interact   #対話的処理機能のインポート"
      ],
      "execution_count": 1,
      "outputs": []
    },
    {
      "cell_type": "markdown",
      "metadata": {
        "id": "b4l85VzC9IEJ"
      },
      "source": [
        "# アフィン変換"
      ]
    },
    {
      "cell_type": "markdown",
      "metadata": {
        "id": "NrJ6txkg9ArA"
      },
      "source": [
        "### 回転行列(2次元)を作る関数"
      ]
    },
    {
      "cell_type": "code",
      "metadata": {
        "id": "RGSJRlP98N6s"
      },
      "source": [
        "def R_2d(angle):\n",
        "\n",
        "  R = np.array([\n",
        "    [ cos(angle), -sin(angle) ],              \n",
        "    [ sin(angle),  cos(angle) ],              \n",
        "  ])\n",
        "\n",
        "  return R"
      ],
      "execution_count": 2,
      "outputs": []
    },
    {
      "cell_type": "markdown",
      "metadata": {
        "id": "Jvo_WA5S9S_N"
      },
      "source": [
        "### アフィン変換する関数"
      ]
    },
    {
      "cell_type": "code",
      "metadata": {
        "id": "9AK24ZVo9Tj-"
      },
      "source": [
        "def affine_trans(x0, angle, r):\n",
        "\n",
        "  R = R_2d(angle)\n",
        "  x = np.dot(R, x0) + r #行列Rとベクトルx0の積＋ベクトルr\n",
        "\n",
        "  return x"
      ],
      "execution_count": 3,
      "outputs": []
    },
    {
      "cell_type": "code",
      "metadata": {
        "id": "8J85gJiV9-Vs",
        "colab": {
          "base_uri": "https://localhost:8080/"
        },
        "outputId": "19e3d748-7f13-467d-abdf-684088c60dbb"
      },
      "source": [
        "affine_trans([1,0], pi/2, [1,0]) #お試し"
      ],
      "execution_count": 4,
      "outputs": [
        {
          "output_type": "execute_result",
          "data": {
            "text/plain": [
              "array([1., 1.])"
            ]
          },
          "metadata": {
            "tags": []
          },
          "execution_count": 4
        }
      ]
    },
    {
      "cell_type": "markdown",
      "metadata": {
        "id": "qGPM2Ivk-pn8"
      },
      "source": [
        "## 三角形のアフィン変換"
      ]
    },
    {
      "cell_type": "markdown",
      "metadata": {
        "id": "Ar0IpUIQ-yUh"
      },
      "source": [
        "### 三角形のデータ（初期状態）"
      ]
    },
    {
      "cell_type": "code",
      "metadata": {
        "id": "aVmrdQ4h-w_Z"
      },
      "source": [
        "points0 = np.array([\n",
        "  [2, -4,  2,  2],  #x座標　×4点\n",
        "  [2, -1, -1,  2]   #y座標　×4点                \n",
        "])"
      ],
      "execution_count": 5,
      "outputs": []
    },
    {
      "cell_type": "markdown",
      "metadata": {
        "id": "5S9FRRwL_uA1"
      },
      "source": [
        "### 三角形を描く関数"
      ]
    },
    {
      "cell_type": "code",
      "metadata": {
        "id": "uKHs1Zwy_feP"
      },
      "source": [
        "def plot_points( points ):\n",
        "\n",
        "  plt.plot( points[0,:], points[1,:] )\n",
        "  plt.xlabel('x')\n",
        "  plt.ylabel('y')"
      ],
      "execution_count": 6,
      "outputs": []
    },
    {
      "cell_type": "code",
      "metadata": {
        "id": "R8nvGPaEBKIl",
        "colab": {
          "base_uri": "https://localhost:8080/",
          "height": 279
        },
        "outputId": "82528305-d2cf-46a5-cf4f-03e620e9d14c"
      },
      "source": [
        "plot_points( points0 ) #初期状態をプロット"
      ],
      "execution_count": 7,
      "outputs": [
        {
          "output_type": "display_data",
          "data": {
            "image/png": "[encoded data removed]",
            "text/plain": [
              "<Figure size 432x288 with 1 Axes>"
            ]
          },
          "metadata": {
            "tags": [],
            "needs_background": "light"
          }
        }
      ]
    },
    {
      "cell_type": "markdown",
      "metadata": {
        "id": "WQE3ii_CBaYb"
      },
      "source": [
        "### 三角形をアフィン変換する関数"
      ]
    },
    {
      "cell_type": "code",
      "metadata": {
        "id": "lm2WJLxQBMAu"
      },
      "source": [
        "def affine_points( points, angle, r ):\n",
        "\n",
        "  pointsT = points.T  #プログラムの都合上，転地\n",
        "\n",
        "  newpoints = []  #空のリスト\n",
        "  for point in pointsT:\n",
        "    newpoint = affine_trans(point, angle, r)\n",
        "    newpoints.append(newpoint)\n",
        "\n",
        "  return np.array(newpoints).T"
      ],
      "execution_count": 8,
      "outputs": []
    },
    {
      "cell_type": "markdown",
      "metadata": {
        "id": "_RCgJphJX-op"
      },
      "source": [
        "90度回してみる"
      ]
    },
    {
      "cell_type": "code",
      "metadata": {
        "id": "ZqN_S4pwCI6d",
        "colab": {
          "base_uri": "https://localhost:8080/",
          "height": 313
        },
        "outputId": "cf8bd0c3-e7bd-4ce8-97bd-e4df3b17a58b"
      },
      "source": [
        "newpoints = affine_points( points0, pi/2, [0,0] ) #回転角π/2, 平行移動(rx=0,ry=0)\n",
        "print(newpoints)\n",
        "plot_points(newpoints)"
      ],
      "execution_count": 9,
      "outputs": [
        {
          "output_type": "stream",
          "text": [
            "[[-2.  1.  1. -2.]\n",
            " [ 2. -4.  2.  2.]]\n"
          ],
          "name": "stdout"
        },
        {
          "output_type": "display_data",
          "data": {
            "image/png": "[encoded data removed]",
            "text/plain": [
              "<Figure size 432x288 with 1 Axes>"
            ]
          },
          "metadata": {
            "tags": [],
            "needs_background": "light"
          }
        }
      ]
    },
    {
      "cell_type": "markdown",
      "metadata": {
        "id": "_UY79BuqEptw"
      },
      "source": [
        "## 手動操作"
      ]
    },
    {
      "cell_type": "code",
      "metadata": {
        "id": "HtqMIwmzDYIk",
        "colab": {
          "base_uri": "https://localhost:8080/",
          "height": 451,
          "referenced_widgets": [
            "0f9044796b7245ab8c004eb86d90bf50",
            "0c4b83dba5fa4f66aa809bd8a08fd650",
            "2085b5b5012447e8a2112d8c1c958fd4",
            "5d10a6e3813e416ba920cfe60be58d20",
            "bbf0f2d0464d454e92d0a787676544c2",
            "8a98f766062743cfa7490639cf012683",
            "cfc53e6c46c44e7ea795e1f764b145a1",
            "04461ee5c831424b98a37e041a5740c5",
            "c0a2657aaf91456494574947951d12d0",
            "82ccc54a6ab24b31af3c2765137c0753",
            "29925efde01a4bd1947a9a4cdf9450b8",
            "c2c75a19d4784321b2ddd7c6e7379ef0",
            "d17e5c6c05e643379b67c13681474080"
          ]
        },
        "outputId": "06446c9e-62b5-4693-f3d0-85375c4ae61f"
      },
      "source": [
        "Nr = 50   #変位ベクトルの刻み数\n",
        "dr = 0.2  #変位ベクトルの刻み幅\n",
        "Na = 50   #角度の刻み数\n",
        "da = pi / Na   #角度の刻み幅\n",
        "\n",
        "\n",
        "@interact(\n",
        "    rx=(-10, 10, 1), \n",
        "    ry=(-10, 10, 1),\n",
        "    angle=(-pi, pi, pi/20)\n",
        ")\n",
        "def f(rx, ry, angle):\n",
        "\n",
        "    print('r = (%f, %f), angle=%f'%(rx,ry,angle))\n",
        "\n",
        "    newpoints = affine_points( points0, angle, [rx, ry] )\n",
        "\n",
        "    fig = plt.figure(figsize=(5,5))   #正方形の用紙\n",
        "    ax = plt.axes()                   #用紙上にグラフ用紙を作る\n",
        "    ax.set_xlim([-10,10])             #x軸の範囲\n",
        "    ax.set_ylim([-10,10])             #y軸の範囲\n",
        "    ax.set_xlabel('x')                #x軸のラベル\n",
        "    ax.set_ylabel('y')                #y軸のラベル\n",
        "    ax.grid()\n",
        "\n",
        "    ax.plot( newpoints[0,:], newpoints[1,:] )"
      ],
      "execution_count": 10,
      "outputs": [
        {
          "output_type": "display_data",
          "data": {
            "application/vnd.jupyter.widget-view+json": {
              "model_id": "0f9044796b7245ab8c004eb86d90bf50",
              "version_minor": 0,
              "version_major": 2
            },
            "text/plain": [
              "interactive(children=(IntSlider(value=0, description='rx', max=10, min=-10), IntSlider(value=0, description='r…"
            ]
          },
          "metadata": {
            "tags": []
          }
        }
      ]
    },
    {
      "cell_type": "code",
      "metadata": {
        "id": "0IBispUmHqCx"
      },
      "source": [
        ""
      ],
      "execution_count": null,
      "outputs": []
    }
  ]
}