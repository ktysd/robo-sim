{
  "nbformat": 4,
  "nbformat_minor": 0,
  "metadata": {
    "colab": {
      "name": "kinem_Hmatrix.ipynb",
      "provenance": [],
      "collapsed_sections": []
    },
    "kernelspec": {
      "name": "python3",
      "display_name": "Python 3"
    },
    "widgets": {
      "application/vnd.jupyter.widget-state+json": {
        "cb70ca8d8a7c40379e0366b503ba4cdf": {
          "model_module": "@jupyter-widgets/controls",
          "model_name": "VBoxModel",
          "state": {
            "_view_name": "VBoxView",
            "_dom_classes": [
              "widget-interact"
            ],
            "_model_name": "VBoxModel",
            "_view_module": "@jupyter-widgets/controls",
            "_model_module_version": "1.5.0",
            "_view_count": null,
            "_view_module_version": "1.5.0",
            "box_style": "",
            "layout": "IPY_MODEL_3301bd66985845e48664257f19308a3c",
            "_model_module": "@jupyter-widgets/controls",
            "children": [
              "IPY_MODEL_e2765cee1b9d4a469393745c49fbe58f",
              "IPY_MODEL_32e26f38e661416ab79ee7d92e0ee675",
              "IPY_MODEL_e6753cf16a1a430e9a534e4e90aa3e97",
              "IPY_MODEL_3c8729899ba04d67a3822f7a75327c29"
            ]
          }
        },
        "3301bd66985845e48664257f19308a3c": {
          "model_module": "@jupyter-widgets/base",
          "model_name": "LayoutModel",
          "state": {
            "_view_name": "LayoutView",
            "grid_template_rows": null,
            "right": null,
            "justify_content": null,
            "_view_module": "@jupyter-widgets/base",
            "overflow": null,
            "_model_module_version": "1.2.0",
            "_view_count": null,
            "flex_flow": null,
            "width": null,
            "min_width": null,
            "border": null,
            "align_items": null,
            "bottom": null,
            "_model_module": "@jupyter-widgets/base",
            "top": null,
            "grid_column": null,
            "overflow_y": null,
            "overflow_x": null,
            "grid_auto_flow": null,
            "grid_area": null,
            "grid_template_columns": null,
            "flex": null,
            "_model_name": "LayoutModel",
            "justify_items": null,
            "grid_row": null,
            "max_height": null,
            "align_content": null,
            "visibility": null,
            "align_self": null,
            "height": null,
            "min_height": null,
            "padding": null,
            "grid_auto_rows": null,
            "grid_gap": null,
            "max_width": null,
            "order": null,
            "_view_module_version": "1.2.0",
            "grid_template_areas": null,
            "object_position": null,
            "object_fit": null,
            "grid_auto_columns": null,
            "margin": null,
            "display": null,
            "left": null
          }
        },
        "e2765cee1b9d4a469393745c49fbe58f": {
          "model_module": "@jupyter-widgets/controls",
          "model_name": "IntSliderModel",
          "state": {
            "_view_name": "IntSliderView",
            "style": "IPY_MODEL_b064717a449049ba90cdd3a1ff0ff98a",
            "_dom_classes": [],
            "description": "rx",
            "step": 1,
            "_model_name": "IntSliderModel",
            "orientation": "horizontal",
            "max": 10,
            "_view_module": "@jupyter-widgets/controls",
            "_model_module_version": "1.5.0",
            "value": 4,
            "_view_count": null,
            "disabled": false,
            "_view_module_version": "1.5.0",
            "min": -10,
            "continuous_update": true,
            "readout_format": "d",
            "description_tooltip": null,
            "readout": true,
            "_model_module": "@jupyter-widgets/controls",
            "layout": "IPY_MODEL_1474a0edf85b49f384e1eaa5fc040dcf"
          }
        },
        "32e26f38e661416ab79ee7d92e0ee675": {
          "model_module": "@jupyter-widgets/controls",
          "model_name": "IntSliderModel",
          "state": {
            "_view_name": "IntSliderView",
            "style": "IPY_MODEL_97b83b42e88a4e46a6e9335fda7f60fc",
            "_dom_classes": [],
            "description": "ry",
            "step": 1,
            "_model_name": "IntSliderModel",
            "orientation": "horizontal",
            "max": 10,
            "_view_module": "@jupyter-widgets/controls",
            "_model_module_version": "1.5.0",
            "value": 4,
            "_view_count": null,
            "disabled": false,
            "_view_module_version": "1.5.0",
            "min": -10,
            "continuous_update": true,
            "readout_format": "d",
            "description_tooltip": null,
            "readout": true,
            "_model_module": "@jupyter-widgets/controls",
            "layout": "IPY_MODEL_23ef30dd3ef54a0e815524436471b319"
          }
        },
        "e6753cf16a1a430e9a534e4e90aa3e97": {
          "model_module": "@jupyter-widgets/controls",
          "model_name": "FloatSliderModel",
          "state": {
            "_view_name": "FloatSliderView",
            "style": "IPY_MODEL_31b21b5c5e1143e99b7bce81ac244aa1",
            "_dom_classes": [],
            "description": "angle",
            "step": 0.15707963267948966,
            "_model_name": "FloatSliderModel",
            "orientation": "horizontal",
            "max": 3.141592653589793,
            "_view_module": "@jupyter-widgets/controls",
            "_model_module_version": "1.5.0",
            "value": 1.09956,
            "_view_count": null,
            "disabled": false,
            "_view_module_version": "1.5.0",
            "min": -3.141592653589793,
            "continuous_update": true,
            "readout_format": ".2f",
            "description_tooltip": null,
            "readout": true,
            "_model_module": "@jupyter-widgets/controls",
            "layout": "IPY_MODEL_0086f2c0ec914d438110c05013ec95b8"
          }
        },
        "3c8729899ba04d67a3822f7a75327c29": {
          "model_module": "@jupyter-widgets/output",
          "model_name": "OutputModel",
          "state": {
            "_view_name": "OutputView",
            "msg_id": "",
            "_dom_classes": [],
            "_model_name": "OutputModel",
            "outputs": [
              {
                "output_type": "stream",
                "metadata": {
                  "tags": []
                },
                "text": "r = (4.000000, 4.000000), angle=1.099560\n",
                "stream": "stdout"
              },
              {
                "output_type": "display_data",
                "metadata": {
                  "tags": [],
                  "needs_background": "light"
                },
                "image/png": "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\n",
                "text/plain": "<Figure size 360x360 with 1 Axes>"
              }
            ],
            "_view_module": "@jupyter-widgets/output",
            "_model_module_version": "1.0.0",
            "_view_count": null,
            "_view_module_version": "1.0.0",
            "layout": "IPY_MODEL_e82aa0c137bc4cabb804120fe5a2e88a",
            "_model_module": "@jupyter-widgets/output"
          }
        },
        "b064717a449049ba90cdd3a1ff0ff98a": {
          "model_module": "@jupyter-widgets/controls",
          "model_name": "SliderStyleModel",
          "state": {
            "_view_name": "StyleView",
            "handle_color": null,
            "_model_name": "SliderStyleModel",
            "description_width": "",
            "_view_module": "@jupyter-widgets/base",
            "_model_module_version": "1.5.0",
            "_view_count": null,
            "_view_module_version": "1.2.0",
            "_model_module": "@jupyter-widgets/controls"
          }
        },
        "1474a0edf85b49f384e1eaa5fc040dcf": {
          "model_module": "@jupyter-widgets/base",
          "model_name": "LayoutModel",
          "state": {
            "_view_name": "LayoutView",
            "grid_template_rows": null,
            "right": null,
            "justify_content": null,
            "_view_module": "@jupyter-widgets/base",
            "overflow": null,
            "_model_module_version": "1.2.0",
            "_view_count": null,
            "flex_flow": null,
            "width": null,
            "min_width": null,
            "border": null,
            "align_items": null,
            "bottom": null,
            "_model_module": "@jupyter-widgets/base",
            "top": null,
            "grid_column": null,
            "overflow_y": null,
            "overflow_x": null,
            "grid_auto_flow": null,
            "grid_area": null,
            "grid_template_columns": null,
            "flex": null,
            "_model_name": "LayoutModel",
            "justify_items": null,
            "grid_row": null,
            "max_height": null,
            "align_content": null,
            "visibility": null,
            "align_self": null,
            "height": null,
            "min_height": null,
            "padding": null,
            "grid_auto_rows": null,
            "grid_gap": null,
            "max_width": null,
            "order": null,
            "_view_module_version": "1.2.0",
            "grid_template_areas": null,
            "object_position": null,
            "object_fit": null,
            "grid_auto_columns": null,
            "margin": null,
            "display": null,
            "left": null
          }
        },
        "97b83b42e88a4e46a6e9335fda7f60fc": {
          "model_module": "@jupyter-widgets/controls",
          "model_name": "SliderStyleModel",
          "state": {
            "_view_name": "StyleView",
            "handle_color": null,
            "_model_name": "SliderStyleModel",
            "description_width": "",
            "_view_module": "@jupyter-widgets/base",
            "_model_module_version": "1.5.0",
            "_view_count": null,
            "_view_module_version": "1.2.0",
            "_model_module": "@jupyter-widgets/controls"
          }
        },
        "23ef30dd3ef54a0e815524436471b319": {
          "model_module": "@jupyter-widgets/base",
          "model_name": "LayoutModel",
          "state": {
            "_view_name": "LayoutView",
            "grid_template_rows": null,
            "right": null,
            "justify_content": null,
            "_view_module": "@jupyter-widgets/base",
            "overflow": null,
            "_model_module_version": "1.2.0",
            "_view_count": null,
            "flex_flow": null,
            "width": null,
            "min_width": null,
            "border": null,
            "align_items": null,
            "bottom": null,
            "_model_module": "@jupyter-widgets/base",
            "top": null,
            "grid_column": null,
            "overflow_y": null,
            "overflow_x": null,
            "grid_auto_flow": null,
            "grid_area": null,
            "grid_template_columns": null,
            "flex": null,
            "_model_name": "LayoutModel",
            "justify_items": null,
            "grid_row": null,
            "max_height": null,
            "align_content": null,
            "visibility": null,
            "align_self": null,
            "height": null,
            "min_height": null,
            "padding": null,
            "grid_auto_rows": null,
            "grid_gap": null,
            "max_width": null,
            "order": null,
            "_view_module_version": "1.2.0",
            "grid_template_areas": null,
            "object_position": null,
            "object_fit": null,
            "grid_auto_columns": null,
            "margin": null,
            "display": null,
            "left": null
          }
        },
        "31b21b5c5e1143e99b7bce81ac244aa1": {
          "model_module": "@jupyter-widgets/controls",
          "model_name": "SliderStyleModel",
          "state": {
            "_view_name": "StyleView",
            "handle_color": null,
            "_model_name": "SliderStyleModel",
            "description_width": "",
            "_view_module": "@jupyter-widgets/base",
            "_model_module_version": "1.5.0",
            "_view_count": null,
            "_view_module_version": "1.2.0",
            "_model_module": "@jupyter-widgets/controls"
          }
        },
        "0086f2c0ec914d438110c05013ec95b8": {
          "model_module": "@jupyter-widgets/base",
          "model_name": "LayoutModel",
          "state": {
            "_view_name": "LayoutView",
            "grid_template_rows": null,
            "right": null,
            "justify_content": null,
            "_view_module": "@jupyter-widgets/base",
            "overflow": null,
            "_model_module_version": "1.2.0",
            "_view_count": null,
            "flex_flow": null,
            "width": null,
            "min_width": null,
            "border": null,
            "align_items": null,
            "bottom": null,
            "_model_module": "@jupyter-widgets/base",
            "top": null,
            "grid_column": null,
            "overflow_y": null,
            "overflow_x": null,
            "grid_auto_flow": null,
            "grid_area": null,
            "grid_template_columns": null,
            "flex": null,
            "_model_name": "LayoutModel",
            "justify_items": null,
            "grid_row": null,
            "max_height": null,
            "align_content": null,
            "visibility": null,
            "align_self": null,
            "height": null,
            "min_height": null,
            "padding": null,
            "grid_auto_rows": null,
            "grid_gap": null,
            "max_width": null,
            "order": null,
            "_view_module_version": "1.2.0",
            "grid_template_areas": null,
            "object_position": null,
            "object_fit": null,
            "grid_auto_columns": null,
            "margin": null,
            "display": null,
            "left": null
          }
        },
        "e82aa0c137bc4cabb804120fe5a2e88a": {
          "model_module": "@jupyter-widgets/base",
          "model_name": "LayoutModel",
          "state": {
            "_view_name": "LayoutView",
            "grid_template_rows": null,
            "right": null,
            "justify_content": null,
            "_view_module": "@jupyter-widgets/base",
            "overflow": null,
            "_model_module_version": "1.2.0",
            "_view_count": null,
            "flex_flow": null,
            "width": null,
            "min_width": null,
            "border": null,
            "align_items": null,
            "bottom": null,
            "_model_module": "@jupyter-widgets/base",
            "top": null,
            "grid_column": null,
            "overflow_y": null,
            "overflow_x": null,
            "grid_auto_flow": null,
            "grid_area": null,
            "grid_template_columns": null,
            "flex": null,
            "_model_name": "LayoutModel",
            "justify_items": null,
            "grid_row": null,
            "max_height": null,
            "align_content": null,
            "visibility": null,
            "align_self": null,
            "height": null,
            "min_height": null,
            "padding": null,
            "grid_auto_rows": null,
            "grid_gap": null,
            "max_width": null,
            "order": null,
            "_view_module_version": "1.2.0",
            "grid_template_areas": null,
            "object_position": null,
            "object_fit": null,
            "grid_auto_columns": null,
            "margin": null,
            "display": null,
            "left": null
          }
        }
      }
    }
  },
  "cells": [
    {
      "cell_type": "code",
      "metadata": {
        "id": "Cx-utNO97f6X"
      },
      "source": [
        "from math import sin, cos, pi     #数学関数・定数のインポート\n",
        "import numpy as np                #数値計算機能のインポート 別名np\n",
        "import matplotlib.pyplot as plt   #グラフ描画機能のインポート 別名plt\n",
        "from ipywidgets import interact   #対話的処理機能のインポート"
      ],
      "execution_count": 2,
      "outputs": []
    },
    {
      "cell_type": "markdown",
      "metadata": {
        "id": "b4l85VzC9IEJ"
      },
      "source": [
        "# 同次変換"
      ]
    },
    {
      "cell_type": "markdown",
      "metadata": {
        "id": "NrJ6txkg9ArA"
      },
      "source": [
        "### 同次行列(2次元)を作る関数"
      ]
    },
    {
      "cell_type": "code",
      "metadata": {
        "id": "RGSJRlP98N6s"
      },
      "source": [
        "def H_2d(angle, r):\n",
        "\n",
        "  H = np.array([\n",
        "    [ cos(angle), -sin(angle), r[0] ],              \n",
        "    [ sin(angle),  cos(angle), r[1] ],              \n",
        "    [          0,           0,   1  ],              \n",
        "  ])\n",
        "\n",
        "  return H"
      ],
      "execution_count": 3,
      "outputs": []
    },
    {
      "cell_type": "code",
      "metadata": {
        "colab": {
          "base_uri": "https://localhost:8080/"
        },
        "id": "XR4Qclj5s0z-",
        "outputId": "0f8694ce-9c00-482d-a4f2-6ef6aaee482a"
      },
      "source": [
        "H_2d(pi/2, [1,0]) #お試し"
      ],
      "execution_count": 4,
      "outputs": [
        {
          "output_type": "execute_result",
          "data": {
            "text/plain": [
              "array([[ 6.123234e-17, -1.000000e+00,  1.000000e+00],\n",
              "       [ 1.000000e+00,  6.123234e-17,  0.000000e+00],\n",
              "       [ 0.000000e+00,  0.000000e+00,  1.000000e+00]])"
            ]
          },
          "metadata": {
            "tags": []
          },
          "execution_count": 4
        }
      ]
    },
    {
      "cell_type": "markdown",
      "metadata": {
        "id": "ikqnA_00tEkh"
      },
      "source": [
        "※ `6.123234e-17` $=6.123234\\times10^{-17}$なので，計算機誤差を含む 0 のこと．"
      ]
    },
    {
      "cell_type": "markdown",
      "metadata": {
        "id": "Jvo_WA5S9S_N"
      },
      "source": [
        "### ダミー成分を追加・除去する関数"
      ]
    },
    {
      "cell_type": "code",
      "metadata": {
        "id": "9AK24ZVo9Tj-"
      },
      "source": [
        "### ベクトルにダミー成分を追加する関数\n",
        "def add_dummy(x):\n",
        "  return np.array([x[0], x[1], 1]) #ダミー成分を追加\n",
        "\n",
        "### 同次ベクトルからダミー変数を除去する関数\n",
        "def remove_dummy(xx):\n",
        "  return np.array([xx[0], xx[1]]) #ダミー成分を除去"
      ],
      "execution_count": 17,
      "outputs": []
    },
    {
      "cell_type": "code",
      "metadata": {
        "id": "8J85gJiV9-Vs",
        "colab": {
          "base_uri": "https://localhost:8080/"
        },
        "outputId": "f97b0cc7-07d0-464b-b727-360e26ef90e5"
      },
      "source": [
        "x = [1,0]\n",
        "H = H_2d(pi/2, [1,2]) #お試し\n",
        "xx = add_dummy(x)\n",
        "print(xx)\n",
        "yy = np.dot(H, xx) #同次変換行列と同次ベクトルの積\n",
        "print(yy)\n",
        "y = remove_dummy(yy)\n",
        "print(y)"
      ],
      "execution_count": 25,
      "outputs": [
        {
          "output_type": "stream",
          "text": [
            "[1 0 1]\n",
            "[1. 3. 1.]\n",
            "[1. 3.]\n"
          ],
          "name": "stdout"
        }
      ]
    },
    {
      "cell_type": "markdown",
      "metadata": {
        "id": "qGPM2Ivk-pn8"
      },
      "source": [
        "## 三角形の同次変換"
      ]
    },
    {
      "cell_type": "markdown",
      "metadata": {
        "id": "Ar0IpUIQ-yUh"
      },
      "source": [
        "### 三角形のデータ（初期状態）"
      ]
    },
    {
      "cell_type": "code",
      "metadata": {
        "id": "aVmrdQ4h-w_Z"
      },
      "source": [
        "points0 = np.array([\n",
        "  [2, -4,  2,  2],  #x座標　×4点\n",
        "  [2, -1, -1,  2]   #y座標　×4点                \n",
        "])"
      ],
      "execution_count": 22,
      "outputs": []
    },
    {
      "cell_type": "markdown",
      "metadata": {
        "id": "5S9FRRwL_uA1"
      },
      "source": [
        "### 三角形を描く関数"
      ]
    },
    {
      "cell_type": "code",
      "metadata": {
        "id": "uKHs1Zwy_feP"
      },
      "source": [
        "def plot_points( points ):\n",
        "\n",
        "  plt.plot( points[0,:], points[1,:] )\n",
        "  plt.xlabel('x')\n",
        "  plt.ylabel('y')"
      ],
      "execution_count": 23,
      "outputs": []
    },
    {
      "cell_type": "code",
      "metadata": {
        "id": "R8nvGPaEBKIl",
        "colab": {
          "base_uri": "https://localhost:8080/",
          "height": 279
        },
        "outputId": "b1cbd531-9b75-4dec-84ee-7ae85a172d5a"
      },
      "source": [
        "plot_points( points0 ) #初期状態をプロット"
      ],
      "execution_count": 24,
      "outputs": [
        {
          "output_type": "display_data",
          "data": {
            "image/png": "[encoded data removed]",
            "text/plain": [
              "<Figure size 432x288 with 1 Axes>"
            ]
          },
          "metadata": {
            "tags": [],
            "needs_background": "light"
          }
        }
      ]
    },
    {
      "cell_type": "markdown",
      "metadata": {
        "id": "WQE3ii_CBaYb"
      },
      "source": [
        "### 三角形を同次変換する関数"
      ]
    },
    {
      "cell_type": "code",
      "metadata": {
        "id": "lm2WJLxQBMAu"
      },
      "source": [
        "def H_points( points, angle, r ):\n",
        "\n",
        "  H = H_2d(angle, r)  #同次変換行列\n",
        "  pointsT = points.T  #プログラムの都合上，転地\n",
        "\n",
        "  newpoints = []  #空のリスト\n",
        "  for point in pointsT:\n",
        "    pp = add_dummy(point) #同次ベクトル化\n",
        "    newpp = np.dot(H, pp) #同次変換\n",
        "    newp = remove_dummy(newpp)\n",
        "    newpoints.append(newp)\n",
        "\n",
        "  return np.array(newpoints).T"
      ],
      "execution_count": 26,
      "outputs": []
    },
    {
      "cell_type": "markdown",
      "metadata": {
        "id": "_RCgJphJX-op"
      },
      "source": [
        "90度回してみる"
      ]
    },
    {
      "cell_type": "code",
      "metadata": {
        "id": "ZqN_S4pwCI6d",
        "colab": {
          "base_uri": "https://localhost:8080/",
          "height": 313
        },
        "outputId": "7a4c45d5-5457-44cc-e540-fa353c30703e"
      },
      "source": [
        "newpoints = H_points( points0, pi/2, [0,0] ) #回転角π/2, 平行移動(rx=0,ry=0)\n",
        "print(newpoints)\n",
        "plot_points(newpoints)"
      ],
      "execution_count": 28,
      "outputs": [
        {
          "output_type": "stream",
          "text": [
            "[[-2.  1.  1. -2.]\n",
            " [ 2. -4.  2.  2.]]\n"
          ],
          "name": "stdout"
        },
        {
          "output_type": "display_data",
          "data": {
            "image/png": "[encoded data removed]",
            "text/plain": [
              "<Figure size 432x288 with 1 Axes>"
            ]
          },
          "metadata": {
            "tags": [],
            "needs_background": "light"
          }
        }
      ]
    },
    {
      "cell_type": "markdown",
      "metadata": {
        "id": "_UY79BuqEptw"
      },
      "source": [
        "## 手動操作"
      ]
    },
    {
      "cell_type": "code",
      "metadata": {
        "id": "HtqMIwmzDYIk",
        "colab": {
          "base_uri": "https://localhost:8080/",
          "height": 451,
          "referenced_widgets": [
            "cb70ca8d8a7c40379e0366b503ba4cdf",
            "3301bd66985845e48664257f19308a3c",
            "e2765cee1b9d4a469393745c49fbe58f",
            "32e26f38e661416ab79ee7d92e0ee675",
            "e6753cf16a1a430e9a534e4e90aa3e97",
            "3c8729899ba04d67a3822f7a75327c29",
            "b064717a449049ba90cdd3a1ff0ff98a",
            "1474a0edf85b49f384e1eaa5fc040dcf",
            "97b83b42e88a4e46a6e9335fda7f60fc",
            "23ef30dd3ef54a0e815524436471b319",
            "31b21b5c5e1143e99b7bce81ac244aa1",
            "0086f2c0ec914d438110c05013ec95b8",
            "e82aa0c137bc4cabb804120fe5a2e88a"
          ]
        },
        "outputId": "f3e54f27-265d-465d-faea-85815aafc72b"
      },
      "source": [
        "Nr = 50   #変位ベクトルの刻み数\n",
        "dr = 0.2  #変位ベクトルの刻み幅\n",
        "Na = 50   #角度の刻み数\n",
        "da = pi / Na   #角度の刻み幅\n",
        "\n",
        "\n",
        "@interact(\n",
        "    rx=(-10, 10, 1), \n",
        "    ry=(-10, 10, 1),\n",
        "    angle=(-pi, pi, pi/20)\n",
        ")\n",
        "def f(rx, ry, angle):\n",
        "\n",
        "    print('r = (%f, %f), angle=%f'%(rx,ry,angle))\n",
        "\n",
        "    newpoints = H_points( points0, angle, [rx, ry] )\n",
        "\n",
        "    fig = plt.figure(figsize=(5,5))   #正方形の用紙\n",
        "    ax = plt.axes()                   #用紙上にグラフ用紙を作る\n",
        "    ax.set_xlim([-10,10])             #x軸の範囲\n",
        "    ax.set_ylim([-10,10])             #y軸の範囲\n",
        "    ax.set_xlabel('x')                #x軸のラベル\n",
        "    ax.set_ylabel('y')                #y軸のラベル\n",
        "    ax.grid()\n",
        "\n",
        "    ax.plot( newpoints[0,:], newpoints[1,:] )"
      ],
      "execution_count": 29,
      "outputs": [
        {
          "output_type": "display_data",
          "data": {
            "application/vnd.jupyter.widget-view+json": {
              "model_id": "cb70ca8d8a7c40379e0366b503ba4cdf",
              "version_minor": 0,
              "version_major": 2
            },
            "text/plain": [
              "interactive(children=(IntSlider(value=0, description='rx', max=10, min=-10), IntSlider(value=0, description='r…"
            ]
          },
          "metadata": {
            "tags": []
          }
        }
      ]
    },
    {
      "cell_type": "code",
      "metadata": {
        "id": "0IBispUmHqCx"
      },
      "source": [
        ""
      ],
      "execution_count": null,
      "outputs": []
    }
  ]
}