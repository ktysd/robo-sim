{
  "nbformat": 4,
  "nbformat_minor": 0,
  "metadata": {
    "colab": {
      "name": "kinem_Hmatrix.ipynb",
      "provenance": [],
      "collapsed_sections": []
    },
    "kernelspec": {
      "name": "python3",
      "display_name": "Python 3"
    },
    "widgets": {
      "application/vnd.jupyter.widget-state+json": {
        "92a6784096314cc28f0fa0d6d6db424d": {
          "model_module": "@jupyter-widgets/controls",
          "model_name": "VBoxModel",
          "state": {
            "_view_name": "VBoxView",
            "_dom_classes": [
              "widget-interact"
            ],
            "_model_name": "VBoxModel",
            "_view_module": "@jupyter-widgets/controls",
            "_model_module_version": "1.5.0",
            "_view_count": null,
            "_view_module_version": "1.5.0",
            "box_style": "",
            "layout": "IPY_MODEL_34ffb446000b488ca2ae473dd5fb7a1b",
            "_model_module": "@jupyter-widgets/controls",
            "children": [
              "IPY_MODEL_babb511fed204fe3af7b75d080da05ce",
              "IPY_MODEL_85eb966d52ee4a38a8af8271124367e2",
              "IPY_MODEL_916b275c4b1946efb1cdc0d494837d5b",
              "IPY_MODEL_415f7806817b49358aee68993a7b40b7"
            ]
          }
        },
        "34ffb446000b488ca2ae473dd5fb7a1b": {
          "model_module": "@jupyter-widgets/base",
          "model_name": "LayoutModel",
          "state": {
            "_view_name": "LayoutView",
            "grid_template_rows": null,
            "right": null,
            "justify_content": null,
            "_view_module": "@jupyter-widgets/base",
            "overflow": null,
            "_model_module_version": "1.2.0",
            "_view_count": null,
            "flex_flow": null,
            "width": null,
            "min_width": null,
            "border": null,
            "align_items": null,
            "bottom": null,
            "_model_module": "@jupyter-widgets/base",
            "top": null,
            "grid_column": null,
            "overflow_y": null,
            "overflow_x": null,
            "grid_auto_flow": null,
            "grid_area": null,
            "grid_template_columns": null,
            "flex": null,
            "_model_name": "LayoutModel",
            "justify_items": null,
            "grid_row": null,
            "max_height": null,
            "align_content": null,
            "visibility": null,
            "align_self": null,
            "height": null,
            "min_height": null,
            "padding": null,
            "grid_auto_rows": null,
            "grid_gap": null,
            "max_width": null,
            "order": null,
            "_view_module_version": "1.2.0",
            "grid_template_areas": null,
            "object_position": null,
            "object_fit": null,
            "grid_auto_columns": null,
            "margin": null,
            "display": null,
            "left": null
          }
        },
        "babb511fed204fe3af7b75d080da05ce": {
          "model_module": "@jupyter-widgets/controls",
          "model_name": "IntSliderModel",
          "state": {
            "_view_name": "IntSliderView",
            "style": "IPY_MODEL_16be15594c624b13bdaf65c89b7e1ca9",
            "_dom_classes": [],
            "description": "rx",
            "step": 1,
            "_model_name": "IntSliderModel",
            "orientation": "horizontal",
            "max": 10,
            "_view_module": "@jupyter-widgets/controls",
            "_model_module_version": "1.5.0",
            "value": 0,
            "_view_count": null,
            "disabled": false,
            "_view_module_version": "1.5.0",
            "min": -10,
            "continuous_update": true,
            "readout_format": "d",
            "description_tooltip": null,
            "readout": true,
            "_model_module": "@jupyter-widgets/controls",
            "layout": "IPY_MODEL_9f13f2c32f164145a0004679e1108d7b"
          }
        },
        "85eb966d52ee4a38a8af8271124367e2": {
          "model_module": "@jupyter-widgets/controls",
          "model_name": "IntSliderModel",
          "state": {
            "_view_name": "IntSliderView",
            "style": "IPY_MODEL_a46c85acc78e47229a98ce869d9bbedd",
            "_dom_classes": [],
            "description": "ry",
            "step": 1,
            "_model_name": "IntSliderModel",
            "orientation": "horizontal",
            "max": 10,
            "_view_module": "@jupyter-widgets/controls",
            "_model_module_version": "1.5.0",
            "value": 4,
            "_view_count": null,
            "disabled": false,
            "_view_module_version": "1.5.0",
            "min": -10,
            "continuous_update": true,
            "readout_format": "d",
            "description_tooltip": null,
            "readout": true,
            "_model_module": "@jupyter-widgets/controls",
            "layout": "IPY_MODEL_04adf44934134dc29fc7bcd65b3ae125"
          }
        },
        "916b275c4b1946efb1cdc0d494837d5b": {
          "model_module": "@jupyter-widgets/controls",
          "model_name": "FloatSliderModel",
          "state": {
            "_view_name": "FloatSliderView",
            "style": "IPY_MODEL_bb83a11b2d6b4958845d1e7ea5c9081f",
            "_dom_classes": [],
            "description": "angle",
            "step": 0.15707963267948966,
            "_model_name": "FloatSliderModel",
            "orientation": "horizontal",
            "max": 3.141592653589793,
            "_view_module": "@jupyter-widgets/controls",
            "_model_module_version": "1.5.0",
            "value": 1.72788,
            "_view_count": null,
            "disabled": false,
            "_view_module_version": "1.5.0",
            "min": -3.141592653589793,
            "continuous_update": true,
            "readout_format": ".2f",
            "description_tooltip": null,
            "readout": true,
            "_model_module": "@jupyter-widgets/controls",
            "layout": "IPY_MODEL_44d2196cf60b45eb868ab5abf4b38453"
          }
        },
        "415f7806817b49358aee68993a7b40b7": {
          "model_module": "@jupyter-widgets/output",
          "model_name": "OutputModel",
          "state": {
            "_view_name": "OutputView",
            "msg_id": "",
            "_dom_classes": [],
            "_model_name": "OutputModel",
            "outputs": [
              {
                "output_type": "stream",
                "metadata": {
                  "tags": []
                },
                "text": "r = (0.000000, 4.000000), angle=1.727880\n",
                "stream": "stdout"
              },
              {
                "output_type": "display_data",
                "metadata": {
                  "tags": [],
                  "needs_background": "light"
                },
                "image/png": "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\n",
                "text/plain": "<Figure size 360x360 with 1 Axes>"
              }
            ],
            "_view_module": "@jupyter-widgets/output",
            "_model_module_version": "1.0.0",
            "_view_count": null,
            "_view_module_version": "1.0.0",
            "layout": "IPY_MODEL_fc85eb73c953485d86344d00dc821237",
            "_model_module": "@jupyter-widgets/output"
          }
        },
        "16be15594c624b13bdaf65c89b7e1ca9": {
          "model_module": "@jupyter-widgets/controls",
          "model_name": "SliderStyleModel",
          "state": {
            "_view_name": "StyleView",
            "handle_color": null,
            "_model_name": "SliderStyleModel",
            "description_width": "",
            "_view_module": "@jupyter-widgets/base",
            "_model_module_version": "1.5.0",
            "_view_count": null,
            "_view_module_version": "1.2.0",
            "_model_module": "@jupyter-widgets/controls"
          }
        },
        "9f13f2c32f164145a0004679e1108d7b": {
          "model_module": "@jupyter-widgets/base",
          "model_name": "LayoutModel",
          "state": {
            "_view_name": "LayoutView",
            "grid_template_rows": null,
            "right": null,
            "justify_content": null,
            "_view_module": "@jupyter-widgets/base",
            "overflow": null,
            "_model_module_version": "1.2.0",
            "_view_count": null,
            "flex_flow": null,
            "width": null,
            "min_width": null,
            "border": null,
            "align_items": null,
            "bottom": null,
            "_model_module": "@jupyter-widgets/base",
            "top": null,
            "grid_column": null,
            "overflow_y": null,
            "overflow_x": null,
            "grid_auto_flow": null,
            "grid_area": null,
            "grid_template_columns": null,
            "flex": null,
            "_model_name": "LayoutModel",
            "justify_items": null,
            "grid_row": null,
            "max_height": null,
            "align_content": null,
            "visibility": null,
            "align_self": null,
            "height": null,
            "min_height": null,
            "padding": null,
            "grid_auto_rows": null,
            "grid_gap": null,
            "max_width": null,
            "order": null,
            "_view_module_version": "1.2.0",
            "grid_template_areas": null,
            "object_position": null,
            "object_fit": null,
            "grid_auto_columns": null,
            "margin": null,
            "display": null,
            "left": null
          }
        },
        "a46c85acc78e47229a98ce869d9bbedd": {
          "model_module": "@jupyter-widgets/controls",
          "model_name": "SliderStyleModel",
          "state": {
            "_view_name": "StyleView",
            "handle_color": null,
            "_model_name": "SliderStyleModel",
            "description_width": "",
            "_view_module": "@jupyter-widgets/base",
            "_model_module_version": "1.5.0",
            "_view_count": null,
            "_view_module_version": "1.2.0",
            "_model_module": "@jupyter-widgets/controls"
          }
        },
        "04adf44934134dc29fc7bcd65b3ae125": {
          "model_module": "@jupyter-widgets/base",
          "model_name": "LayoutModel",
          "state": {
            "_view_name": "LayoutView",
            "grid_template_rows": null,
            "right": null,
            "justify_content": null,
            "_view_module": "@jupyter-widgets/base",
            "overflow": null,
            "_model_module_version": "1.2.0",
            "_view_count": null,
            "flex_flow": null,
            "width": null,
            "min_width": null,
            "border": null,
            "align_items": null,
            "bottom": null,
            "_model_module": "@jupyter-widgets/base",
            "top": null,
            "grid_column": null,
            "overflow_y": null,
            "overflow_x": null,
            "grid_auto_flow": null,
            "grid_area": null,
            "grid_template_columns": null,
            "flex": null,
            "_model_name": "LayoutModel",
            "justify_items": null,
            "grid_row": null,
            "max_height": null,
            "align_content": null,
            "visibility": null,
            "align_self": null,
            "height": null,
            "min_height": null,
            "padding": null,
            "grid_auto_rows": null,
            "grid_gap": null,
            "max_width": null,
            "order": null,
            "_view_module_version": "1.2.0",
            "grid_template_areas": null,
            "object_position": null,
            "object_fit": null,
            "grid_auto_columns": null,
            "margin": null,
            "display": null,
            "left": null
          }
        },
        "bb83a11b2d6b4958845d1e7ea5c9081f": {
          "model_module": "@jupyter-widgets/controls",
          "model_name": "SliderStyleModel",
          "state": {
            "_view_name": "StyleView",
            "handle_color": null,
            "_model_name": "SliderStyleModel",
            "description_width": "",
            "_view_module": "@jupyter-widgets/base",
            "_model_module_version": "1.5.0",
            "_view_count": null,
            "_view_module_version": "1.2.0",
            "_model_module": "@jupyter-widgets/controls"
          }
        },
        "44d2196cf60b45eb868ab5abf4b38453": {
          "model_module": "@jupyter-widgets/base",
          "model_name": "LayoutModel",
          "state": {
            "_view_name": "LayoutView",
            "grid_template_rows": null,
            "right": null,
            "justify_content": null,
            "_view_module": "@jupyter-widgets/base",
            "overflow": null,
            "_model_module_version": "1.2.0",
            "_view_count": null,
            "flex_flow": null,
            "width": null,
            "min_width": null,
            "border": null,
            "align_items": null,
            "bottom": null,
            "_model_module": "@jupyter-widgets/base",
            "top": null,
            "grid_column": null,
            "overflow_y": null,
            "overflow_x": null,
            "grid_auto_flow": null,
            "grid_area": null,
            "grid_template_columns": null,
            "flex": null,
            "_model_name": "LayoutModel",
            "justify_items": null,
            "grid_row": null,
            "max_height": null,
            "align_content": null,
            "visibility": null,
            "align_self": null,
            "height": null,
            "min_height": null,
            "padding": null,
            "grid_auto_rows": null,
            "grid_gap": null,
            "max_width": null,
            "order": null,
            "_view_module_version": "1.2.0",
            "grid_template_areas": null,
            "object_position": null,
            "object_fit": null,
            "grid_auto_columns": null,
            "margin": null,
            "display": null,
            "left": null
          }
        },
        "fc85eb73c953485d86344d00dc821237": {
          "model_module": "@jupyter-widgets/base",
          "model_name": "LayoutModel",
          "state": {
            "_view_name": "LayoutView",
            "grid_template_rows": null,
            "right": null,
            "justify_content": null,
            "_view_module": "@jupyter-widgets/base",
            "overflow": null,
            "_model_module_version": "1.2.0",
            "_view_count": null,
            "flex_flow": null,
            "width": null,
            "min_width": null,
            "border": null,
            "align_items": null,
            "bottom": null,
            "_model_module": "@jupyter-widgets/base",
            "top": null,
            "grid_column": null,
            "overflow_y": null,
            "overflow_x": null,
            "grid_auto_flow": null,
            "grid_area": null,
            "grid_template_columns": null,
            "flex": null,
            "_model_name": "LayoutModel",
            "justify_items": null,
            "grid_row": null,
            "max_height": null,
            "align_content": null,
            "visibility": null,
            "align_self": null,
            "height": null,
            "min_height": null,
            "padding": null,
            "grid_auto_rows": null,
            "grid_gap": null,
            "max_width": null,
            "order": null,
            "_view_module_version": "1.2.0",
            "grid_template_areas": null,
            "object_position": null,
            "object_fit": null,
            "grid_auto_columns": null,
            "margin": null,
            "display": null,
            "left": null
          }
        }
      }
    }
  },
  "cells": [
    {
      "cell_type": "code",
      "metadata": {
        "id": "Cx-utNO97f6X"
      },
      "source": [
        "from math import sin, cos, pi     #数学関数・定数のインポート\n",
        "import numpy as np                #数値計算機能のインポート 別名np\n",
        "import matplotlib.pyplot as plt   #グラフ描画機能のインポート 別名plt\n",
        "from ipywidgets import interact   #対話的処理機能のインポート"
      ],
      "execution_count": 1,
      "outputs": []
    },
    {
      "cell_type": "markdown",
      "metadata": {
        "id": "b4l85VzC9IEJ"
      },
      "source": [
        "# 同次変換"
      ]
    },
    {
      "cell_type": "markdown",
      "metadata": {
        "id": "NrJ6txkg9ArA"
      },
      "source": [
        "### 同次変換行列(2次元)を作る関数"
      ]
    },
    {
      "cell_type": "code",
      "metadata": {
        "id": "RGSJRlP98N6s"
      },
      "source": [
        "def H_2d(angle, r):\n",
        "\n",
        "  H = np.array([\n",
        "    [ cos(angle), -sin(angle), r[0] ],              \n",
        "    [ sin(angle),  cos(angle), r[1] ],              \n",
        "    [          0,           0,   1  ],              \n",
        "  ])\n",
        "\n",
        "  return H"
      ],
      "execution_count": 2,
      "outputs": []
    },
    {
      "cell_type": "code",
      "metadata": {
        "colab": {
          "base_uri": "https://localhost:8080/"
        },
        "id": "XR4Qclj5s0z-",
        "outputId": "f2e5ebfe-ef7f-41ce-adb5-be54286ca997"
      },
      "source": [
        "H_2d(pi/2, [1,0]) #お試し"
      ],
      "execution_count": 3,
      "outputs": [
        {
          "output_type": "execute_result",
          "data": {
            "text/plain": [
              "array([[ 6.123234e-17, -1.000000e+00,  1.000000e+00],\n",
              "       [ 1.000000e+00,  6.123234e-17,  0.000000e+00],\n",
              "       [ 0.000000e+00,  0.000000e+00,  1.000000e+00]])"
            ]
          },
          "metadata": {
            "tags": []
          },
          "execution_count": 3
        }
      ]
    },
    {
      "cell_type": "markdown",
      "metadata": {
        "id": "ikqnA_00tEkh"
      },
      "source": [
        "※ `6.123234e-17` $=6.123234\\times10^{-17}$なので，計算機誤差を含む 0 のこと．"
      ]
    },
    {
      "cell_type": "markdown",
      "metadata": {
        "id": "Jvo_WA5S9S_N"
      },
      "source": [
        "### ダミー成分を追加・除去する関数"
      ]
    },
    {
      "cell_type": "code",
      "metadata": {
        "id": "9AK24ZVo9Tj-"
      },
      "source": [
        "### 物理座標にダミー成分を追加する関数\n",
        "def add_dummy(x):\n",
        "  return np.array([x[0], x[1], 1]) #ダミー成分を追加\n",
        "\n",
        "### 同次座標からダミー変数を除去する関数\n",
        "def remove_dummy(xx):\n",
        "  return np.array([xx[0], xx[1]]) #ダミー成分を除去"
      ],
      "execution_count": 4,
      "outputs": []
    },
    {
      "cell_type": "code",
      "metadata": {
        "id": "8J85gJiV9-Vs",
        "colab": {
          "base_uri": "https://localhost:8080/"
        },
        "outputId": "f9bac30e-fffe-420f-8ac8-5a4c93d3eef8"
      },
      "source": [
        "H = H_2d(pi/2, [3,4]) #お試し\n",
        "x = np.array([1,2])\n",
        "print(x)\n",
        "hx = add_dummy(x)\n",
        "print(hx)\n",
        "hy = np.dot(H, hx) #同次変換行列と同次座標の積\n",
        "print(hy)\n",
        "y = remove_dummy(hy)\n",
        "print(y)"
      ],
      "execution_count": 5,
      "outputs": [
        {
          "output_type": "stream",
          "text": [
            "[1 2]\n",
            "[1 2 1]\n",
            "[1. 5. 1.]\n",
            "[1. 5.]\n"
          ],
          "name": "stdout"
        }
      ]
    },
    {
      "cell_type": "markdown",
      "metadata": {
        "id": "qGPM2Ivk-pn8"
      },
      "source": [
        "## 三角形の同次変換"
      ]
    },
    {
      "cell_type": "markdown",
      "metadata": {
        "id": "Ar0IpUIQ-yUh"
      },
      "source": [
        "### 三角形のデータ（初期状態）"
      ]
    },
    {
      "cell_type": "code",
      "metadata": {
        "id": "aVmrdQ4h-w_Z"
      },
      "source": [
        "points0 = np.array([\n",
        "  [ 2,  2], #[x,y]座標　1点目\n",
        "  [-4, -1], #2点目\n",
        "  [ 2, -1], #3点目\n",
        "  [ 2,  2], #4点目 = 1点目\n",
        "])"
      ],
      "execution_count": 6,
      "outputs": []
    },
    {
      "cell_type": "markdown",
      "metadata": {
        "id": "5S9FRRwL_uA1"
      },
      "source": [
        "### 三角形を描く関数"
      ]
    },
    {
      "cell_type": "code",
      "metadata": {
        "id": "uKHs1Zwy_feP"
      },
      "source": [
        "def plot_points( points ):\n",
        "\n",
        "  plt.plot( points[:,0], points[:,1] )\n",
        "  plt.xlabel('x')\n",
        "  plt.ylabel('y')"
      ],
      "execution_count": 7,
      "outputs": []
    },
    {
      "cell_type": "code",
      "metadata": {
        "id": "R8nvGPaEBKIl",
        "colab": {
          "base_uri": "https://localhost:8080/",
          "height": 279
        },
        "outputId": "a4ca01a4-9ca4-484e-f897-dd39d83e747a"
      },
      "source": [
        "plot_points( points0 ) #初期状態をプロット"
      ],
      "execution_count": 8,
      "outputs": [
        {
          "output_type": "display_data",
          "data": {
            "image/png": "[encoded data removed]",
            "text/plain": [
              "<Figure size 432x288 with 1 Axes>"
            ]
          },
          "metadata": {
            "tags": [],
            "needs_background": "light"
          }
        }
      ]
    },
    {
      "cell_type": "markdown",
      "metadata": {
        "id": "WQE3ii_CBaYb"
      },
      "source": [
        "### 三角形を同次変換する関数"
      ]
    },
    {
      "cell_type": "code",
      "metadata": {
        "id": "lm2WJLxQBMAu"
      },
      "source": [
        "def H_by_points( points, angle, r ):\n",
        "\n",
        "  H = H_2d(angle, r)  #同次変換行列\n",
        "\n",
        "  newpoints = []  #空のリスト\n",
        "  for point in points:\n",
        "    hp = add_dummy(point) #同次座標化\n",
        "    newhp = np.dot(H, hp) #同次変換\n",
        "    newp = remove_dummy(newhp)\n",
        "    newpoints.append(newp)\n",
        "\n",
        "  return np.array(newpoints)"
      ],
      "execution_count": 9,
      "outputs": []
    },
    {
      "cell_type": "markdown",
      "metadata": {
        "id": "_RCgJphJX-op"
      },
      "source": [
        "90度回してみる"
      ]
    },
    {
      "cell_type": "code",
      "metadata": {
        "id": "ZqN_S4pwCI6d",
        "colab": {
          "base_uri": "https://localhost:8080/",
          "height": 347
        },
        "outputId": "c4370c1b-1220-43e6-8e98-277951753801"
      },
      "source": [
        "newpoints = H_by_points( points0, pi/2, [0,0] ) #回転角π/2, 平行移動(rx=0,ry=0)\n",
        "print(newpoints)\n",
        "plot_points(newpoints)"
      ],
      "execution_count": 10,
      "outputs": [
        {
          "output_type": "stream",
          "text": [
            "[[-2.  2.]\n",
            " [ 1. -4.]\n",
            " [ 1.  2.]\n",
            " [-2.  2.]]\n"
          ],
          "name": "stdout"
        },
        {
          "output_type": "display_data",
          "data": {
            "image/png": "[encoded data removed]",
            "text/plain": [
              "<Figure size 432x288 with 1 Axes>"
            ]
          },
          "metadata": {
            "tags": [],
            "needs_background": "light"
          }
        }
      ]
    },
    {
      "cell_type": "markdown",
      "metadata": {
        "id": "_UY79BuqEptw"
      },
      "source": [
        "## 手動操作"
      ]
    },
    {
      "cell_type": "code",
      "metadata": {
        "id": "HtqMIwmzDYIk",
        "colab": {
          "base_uri": "https://localhost:8080/",
          "height": 451,
          "referenced_widgets": [
            "92a6784096314cc28f0fa0d6d6db424d",
            "34ffb446000b488ca2ae473dd5fb7a1b",
            "babb511fed204fe3af7b75d080da05ce",
            "85eb966d52ee4a38a8af8271124367e2",
            "916b275c4b1946efb1cdc0d494837d5b",
            "415f7806817b49358aee68993a7b40b7",
            "16be15594c624b13bdaf65c89b7e1ca9",
            "9f13f2c32f164145a0004679e1108d7b",
            "a46c85acc78e47229a98ce869d9bbedd",
            "04adf44934134dc29fc7bcd65b3ae125",
            "bb83a11b2d6b4958845d1e7ea5c9081f",
            "44d2196cf60b45eb868ab5abf4b38453",
            "fc85eb73c953485d86344d00dc821237"
          ]
        },
        "outputId": "8126a953-afe9-4005-d64a-87154ef68495"
      },
      "source": [
        "Nr = 50   #変位ベクトルの刻み数\n",
        "dr = 0.2  #変位ベクトルの刻み幅\n",
        "Na = 50   #角度の刻み数\n",
        "da = pi / Na   #角度の刻み幅\n",
        "\n",
        "\n",
        "@interact(\n",
        "    rx=(-10, 10, 1), \n",
        "    ry=(-10, 10, 1),\n",
        "    angle=(-pi, pi, pi/20)\n",
        ")\n",
        "def f(rx, ry, angle):\n",
        "\n",
        "    print('r = (%f, %f), angle=%f'%(rx,ry,angle))\n",
        "\n",
        "    newpoints = H_by_points( points0, angle, [rx, ry] )\n",
        "\n",
        "    fig = plt.figure(figsize=(5,5))   #正方形の用紙\n",
        "    ax = plt.axes()                   #用紙上にグラフ用紙を作る\n",
        "    ax.set_xlim([-10,10])             #x軸の範囲\n",
        "    ax.set_ylim([-10,10])             #y軸の範囲\n",
        "    ax.set_xlabel('x')                #x軸のラベル\n",
        "    ax.set_ylabel('y')                #y軸のラベル\n",
        "    ax.grid()\n",
        "\n",
        "    ax.plot( newpoints[:,0], newpoints[:,1] )"
      ],
      "execution_count": 11,
      "outputs": [
        {
          "output_type": "display_data",
          "data": {
            "application/vnd.jupyter.widget-view+json": {
              "model_id": "92a6784096314cc28f0fa0d6d6db424d",
              "version_minor": 0,
              "version_major": 2
            },
            "text/plain": [
              "interactive(children=(IntSlider(value=0, description='rx', max=10, min=-10), IntSlider(value=0, description='r…"
            ]
          },
          "metadata": {
            "tags": []
          }
        }
      ]
    },
    {
      "cell_type": "code",
      "metadata": {
        "id": "0IBispUmHqCx"
      },
      "source": [
        ""
      ],
      "execution_count": 11,
      "outputs": []
    }
  ]
}